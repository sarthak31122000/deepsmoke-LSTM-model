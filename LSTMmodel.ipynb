{
  "nbformat": 4,
  "nbformat_minor": 0,
  "metadata": {
    "colab": {
      "name": "LSTMmodel.ipynb",
      "provenance": [],
      "collapsed_sections": []
    },
    "kernelspec": {
      "name": "python3",
      "display_name": "Python 3"
    },
    "language_info": {
      "name": "python"
    },
    "accelerator": "GPU"
  },
  "cells": [
    {
      "cell_type": "code",
      "metadata": {
        "id": "xfDqIwnRaLKY"
      },
      "source": [
        "import pandas_datareader as pdr"
      ],
      "execution_count": 3,
      "outputs": []
    },
    {
      "cell_type": "code",
      "metadata": {
        "id": "Rg_10diGaUQr"
      },
      "source": [
        "import pandas as pd\n",
        "df = pd.read_csv('/content/mandir-marg, delhi, delhi, india-air-quality.csv')"
      ],
      "execution_count": 4,
      "outputs": []
    },
    {
      "cell_type": "code",
      "metadata": {
        "colab": {
          "base_uri": "https://localhost:8080/",
          "height": 204
        },
        "id": "1Cy3LPbZallu",
        "outputId": "a0399d29-68bf-4a56-f170-77a0dcd4b477"
      },
      "source": [
        "df.head()"
      ],
      "execution_count": 5,
      "outputs": [
        {
          "output_type": "execute_result",
          "data": {
            "text/html": [
              "<div>\n",
              "<style scoped>\n",
              "    .dataframe tbody tr th:only-of-type {\n",
              "        vertical-align: middle;\n",
              "    }\n",
              "\n",
              "    .dataframe tbody tr th {\n",
              "        vertical-align: top;\n",
              "    }\n",
              "\n",
              "    .dataframe thead th {\n",
              "        text-align: right;\n",
              "    }\n",
              "</style>\n",
              "<table border=\"1\" class=\"dataframe\">\n",
              "  <thead>\n",
              "    <tr style=\"text-align: right;\">\n",
              "      <th></th>\n",
              "      <th>date</th>\n",
              "      <th>pm25</th>\n",
              "      <th>pm10</th>\n",
              "      <th>o3</th>\n",
              "      <th>no2</th>\n",
              "      <th>so2</th>\n",
              "      <th>co</th>\n",
              "    </tr>\n",
              "  </thead>\n",
              "  <tbody>\n",
              "    <tr>\n",
              "      <th>0</th>\n",
              "      <td>01-06-2021</td>\n",
              "      <td>106.0</td>\n",
              "      <td>83</td>\n",
              "      <td>14</td>\n",
              "      <td>30</td>\n",
              "      <td>4</td>\n",
              "      <td>8</td>\n",
              "    </tr>\n",
              "    <tr>\n",
              "      <th>1</th>\n",
              "      <td>02-06-2021</td>\n",
              "      <td>163.0</td>\n",
              "      <td></td>\n",
              "      <td></td>\n",
              "      <td></td>\n",
              "      <td></td>\n",
              "      <td></td>\n",
              "    </tr>\n",
              "    <tr>\n",
              "      <th>2</th>\n",
              "      <td>01-05-2021</td>\n",
              "      <td>156.0</td>\n",
              "      <td>102</td>\n",
              "      <td>15</td>\n",
              "      <td>31</td>\n",
              "      <td>5</td>\n",
              "      <td>7</td>\n",
              "    </tr>\n",
              "    <tr>\n",
              "      <th>3</th>\n",
              "      <td>02-05-2021</td>\n",
              "      <td>146.0</td>\n",
              "      <td>155</td>\n",
              "      <td>12</td>\n",
              "      <td>29</td>\n",
              "      <td>4</td>\n",
              "      <td>7</td>\n",
              "    </tr>\n",
              "    <tr>\n",
              "      <th>4</th>\n",
              "      <td>03-05-2021</td>\n",
              "      <td>173.0</td>\n",
              "      <td>94</td>\n",
              "      <td>11</td>\n",
              "      <td>29</td>\n",
              "      <td>5</td>\n",
              "      <td>7</td>\n",
              "    </tr>\n",
              "  </tbody>\n",
              "</table>\n",
              "</div>"
            ],
            "text/plain": [
              "         date   pm25  pm10  o3  no2  so2  co\n",
              "0  01-06-2021  106.0    83  14   30    4   8\n",
              "1  02-06-2021  163.0                        \n",
              "2  01-05-2021  156.0   102  15   31    5   7\n",
              "3  02-05-2021  146.0   155  12   29    4   7\n",
              "4  03-05-2021  173.0    94  11   29    5   7"
            ]
          },
          "metadata": {
            "tags": []
          },
          "execution_count": 5
        }
      ]
    },
    {
      "cell_type": "code",
      "metadata": {
        "colab": {
          "base_uri": "https://localhost:8080/",
          "height": 204
        },
        "id": "ypuOS2_paofh",
        "outputId": "726f2de4-2adf-404b-9160-cbb3291b0e58"
      },
      "source": [
        "df.tail()"
      ],
      "execution_count": 6,
      "outputs": [
        {
          "output_type": "execute_result",
          "data": {
            "text/html": [
              "<div>\n",
              "<style scoped>\n",
              "    .dataframe tbody tr th:only-of-type {\n",
              "        vertical-align: middle;\n",
              "    }\n",
              "\n",
              "    .dataframe tbody tr th {\n",
              "        vertical-align: top;\n",
              "    }\n",
              "\n",
              "    .dataframe thead th {\n",
              "        text-align: right;\n",
              "    }\n",
              "</style>\n",
              "<table border=\"1\" class=\"dataframe\">\n",
              "  <thead>\n",
              "    <tr style=\"text-align: right;\">\n",
              "      <th></th>\n",
              "      <th>date</th>\n",
              "      <th>pm25</th>\n",
              "      <th>pm10</th>\n",
              "      <th>o3</th>\n",
              "      <th>no2</th>\n",
              "      <th>so2</th>\n",
              "      <th>co</th>\n",
              "    </tr>\n",
              "  </thead>\n",
              "  <tbody>\n",
              "    <tr>\n",
              "      <th>2610</th>\n",
              "      <td>NaN</td>\n",
              "      <td>NaN</td>\n",
              "      <td>NaN</td>\n",
              "      <td>NaN</td>\n",
              "      <td>NaN</td>\n",
              "      <td>NaN</td>\n",
              "      <td>NaN</td>\n",
              "    </tr>\n",
              "    <tr>\n",
              "      <th>2611</th>\n",
              "      <td>NaN</td>\n",
              "      <td>NaN</td>\n",
              "      <td>NaN</td>\n",
              "      <td>NaN</td>\n",
              "      <td>NaN</td>\n",
              "      <td>NaN</td>\n",
              "      <td>NaN</td>\n",
              "    </tr>\n",
              "    <tr>\n",
              "      <th>2612</th>\n",
              "      <td>NaN</td>\n",
              "      <td>NaN</td>\n",
              "      <td>NaN</td>\n",
              "      <td>NaN</td>\n",
              "      <td>NaN</td>\n",
              "      <td>NaN</td>\n",
              "      <td>NaN</td>\n",
              "    </tr>\n",
              "    <tr>\n",
              "      <th>2613</th>\n",
              "      <td>NaN</td>\n",
              "      <td>NaN</td>\n",
              "      <td>NaN</td>\n",
              "      <td>NaN</td>\n",
              "      <td>NaN</td>\n",
              "      <td>NaN</td>\n",
              "      <td>NaN</td>\n",
              "    </tr>\n",
              "    <tr>\n",
              "      <th>2614</th>\n",
              "      <td>NaN</td>\n",
              "      <td>NaN</td>\n",
              "      <td>NaN</td>\n",
              "      <td>NaN</td>\n",
              "      <td>NaN</td>\n",
              "      <td>NaN</td>\n",
              "      <td>NaN</td>\n",
              "    </tr>\n",
              "  </tbody>\n",
              "</table>\n",
              "</div>"
            ],
            "text/plain": [
              "     date   pm25  pm10   o3  no2  so2   co\n",
              "2610  NaN    NaN   NaN  NaN  NaN  NaN  NaN\n",
              "2611  NaN    NaN   NaN  NaN  NaN  NaN  NaN\n",
              "2612  NaN    NaN   NaN  NaN  NaN  NaN  NaN\n",
              "2613  NaN    NaN   NaN  NaN  NaN  NaN  NaN\n",
              "2614  NaN    NaN   NaN  NaN  NaN  NaN  NaN"
            ]
          },
          "metadata": {
            "tags": []
          },
          "execution_count": 6
        }
      ]
    },
    {
      "cell_type": "code",
      "metadata": {
        "id": "VioMkL0aeDDV"
      },
      "source": [
        "df=df.dropna()"
      ],
      "execution_count": 7,
      "outputs": []
    },
    {
      "cell_type": "code",
      "metadata": {
        "id": "WRLD8GPoarkY"
      },
      "source": [
        "df1 = df.reset_index()"
      ],
      "execution_count": 8,
      "outputs": []
    },
    {
      "cell_type": "code",
      "metadata": {
        "id": "axG-i1pna4CF"
      },
      "source": [
        "df1=df1[' pm25']"
      ],
      "execution_count": 9,
      "outputs": []
    },
    {
      "cell_type": "code",
      "metadata": {
        "colab": {
          "base_uri": "https://localhost:8080/"
        },
        "id": "ssUZPvAacAIC",
        "outputId": "0b4ff08b-5529-4e38-a738-08fb064132c7"
      },
      "source": [
        "df1"
      ],
      "execution_count": 10,
      "outputs": [
        {
          "output_type": "execute_result",
          "data": {
            "text/plain": [
              "0       106.0\n",
              "1       163.0\n",
              "2       156.0\n",
              "3       146.0\n",
              "4       173.0\n",
              "        ...  \n",
              "2521    151.0\n",
              "2522    160.0\n",
              "2523    149.0\n",
              "2524    115.0\n",
              "2525    128.0\n",
              "Name:  pm25, Length: 2526, dtype: float64"
            ]
          },
          "metadata": {
            "tags": []
          },
          "execution_count": 10
        }
      ]
    },
    {
      "cell_type": "code",
      "metadata": {
        "colab": {
          "base_uri": "https://localhost:8080/"
        },
        "id": "6p9b0NBceItI",
        "outputId": "15673b21-27d5-4321-c713-edd292d96f52"
      },
      "source": [
        "df1.dropna()"
      ],
      "execution_count": 11,
      "outputs": [
        {
          "output_type": "execute_result",
          "data": {
            "text/plain": [
              "0       106.0\n",
              "1       163.0\n",
              "2       156.0\n",
              "3       146.0\n",
              "4       173.0\n",
              "        ...  \n",
              "2521    151.0\n",
              "2522    160.0\n",
              "2523    149.0\n",
              "2524    115.0\n",
              "2525    128.0\n",
              "Name:  pm25, Length: 2526, dtype: float64"
            ]
          },
          "metadata": {
            "tags": []
          },
          "execution_count": 11
        }
      ]
    },
    {
      "cell_type": "code",
      "metadata": {
        "colab": {
          "base_uri": "https://localhost:8080/",
          "height": 282
        },
        "id": "nsP11CIFbepm",
        "outputId": "4e88754a-9c1e-4e25-b45d-561e3971fbfa"
      },
      "source": [
        "import matplotlib.pyplot as plt\n",
        "plt.plot(df1)"
      ],
      "execution_count": 12,
      "outputs": [
        {
          "output_type": "execute_result",
          "data": {
            "text/plain": [
              "[<matplotlib.lines.Line2D at 0x7f049dba2390>]"
            ]
          },
          "metadata": {
            "tags": []
          },
          "execution_count": 12
        },
        {
          "output_type": "display_data",
          "data": {
            "image/png": "[encoded data removed]",
            "text/plain": [
              "<Figure size 432x288 with 1 Axes>"
            ]
          },
          "metadata": {
            "tags": [],
            "needs_background": "light"
          }
        }
      ]
    },
    {
      "cell_type": "code",
      "metadata": {
        "id": "bKrmev2kcGfC"
      },
      "source": [
        "import numpy as np\n"
      ],
      "execution_count": 13,
      "outputs": []
    },
    {
      "cell_type": "code",
      "metadata": {
        "id": "h-uwieh0cVdm"
      },
      "source": [
        "from sklearn.preprocessing import MinMaxScaler\n",
        "scalar = MinMaxScaler(feature_range=(0,1))\n",
        "df1 = scalar.fit_transform(np.array(df1).reshape(-1,1))"
      ],
      "execution_count": 35,
      "outputs": []
    },
    {
      "cell_type": "code",
      "metadata": {
        "colab": {
          "base_uri": "https://localhost:8080/"
        },
        "id": "OWVGmvjFdqm1",
        "outputId": "4b1fc15c-c6ad-439b-a2d1-5a3478e7ad61"
      },
      "source": [
        "df1"
      ],
      "execution_count": 15,
      "outputs": [
        {
          "output_type": "execute_result",
          "data": {
            "text/plain": [
              "array([[0.12820513],\n",
              "       [0.22564103],\n",
              "       [0.21367521],\n",
              "       ...,\n",
              "       [0.2017094 ],\n",
              "       [0.14358974],\n",
              "       [0.16581197]])"
            ]
          },
          "metadata": {
            "tags": []
          },
          "execution_count": 15
        }
      ]
    },
    {
      "cell_type": "code",
      "metadata": {
        "id": "OMHDca3Eds9E"
      },
      "source": [
        "training_size = int(len(df1)*0.65)\n",
        "test_size = len(df1)-training_size\n",
        "train_data,test_data = df1[0:training_size,:],df1[training_size:len(df1),:1]"
      ],
      "execution_count": 16,
      "outputs": []
    },
    {
      "cell_type": "code",
      "metadata": {
        "colab": {
          "base_uri": "https://localhost:8080/"
        },
        "id": "_YQ8A817fV3T",
        "outputId": "e3d6492a-d930-4371-f657-b34581e0f80c"
      },
      "source": [
        "training_size,test_size"
      ],
      "execution_count": 17,
      "outputs": [
        {
          "output_type": "execute_result",
          "data": {
            "text/plain": [
              "(1641, 885)"
            ]
          },
          "metadata": {
            "tags": []
          },
          "execution_count": 17
        }
      ]
    },
    {
      "cell_type": "code",
      "metadata": {
        "colab": {
          "base_uri": "https://localhost:8080/"
        },
        "id": "8QpQg9sBfZMv",
        "outputId": "52bc561e-0aad-43ef-abbb-00bf02e6dd3d"
      },
      "source": [
        "train_data"
      ],
      "execution_count": 18,
      "outputs": [
        {
          "output_type": "execute_result",
          "data": {
            "text/plain": [
              "array([[0.12820513],\n",
              "       [0.22564103],\n",
              "       [0.21367521],\n",
              "       ...,\n",
              "       [0.34017094],\n",
              "       [0.36923077],\n",
              "       [0.40854701]])"
            ]
          },
          "metadata": {
            "tags": []
          },
          "execution_count": 18
        }
      ]
    },
    {
      "cell_type": "code",
      "metadata": {
        "colab": {
          "base_uri": "https://localhost:8080/"
        },
        "id": "_JuHbxFJfbsm",
        "outputId": "4b1b228c-9f20-41f2-8a4e-e862623446a5"
      },
      "source": [
        "test_data"
      ],
      "execution_count": 19,
      "outputs": [
        {
          "output_type": "execute_result",
          "data": {
            "text/plain": [
              "array([[0.24786325],\n",
              "       [0.28547009],\n",
              "       [0.37264957],\n",
              "       [0.23931624],\n",
              "       [0.22393162],\n",
              "       [0.22051282],\n",
              "       [0.23418803],\n",
              "       [0.37948718],\n",
              "       [0.44957265],\n",
              "       [0.50940171],\n",
              "       [0.5008547 ],\n",
              "       [0.37948718],\n",
              "       [0.28034188],\n",
              "       [0.33504274],\n",
              "       [0.52478632],\n",
              "       [0.5025641 ],\n",
              "       [0.42051282],\n",
              "       [0.41709402],\n",
              "       [0.37777778],\n",
              "       [0.33846154],\n",
              "       [0.32820513],\n",
              "       [0.34017094],\n",
              "       [0.26837607],\n",
              "       [0.27692308],\n",
              "       [0.32478632],\n",
              "       [0.36923077],\n",
              "       [0.36239316],\n",
              "       [0.43247863],\n",
              "       [0.2974359 ],\n",
              "       [0.26153846],\n",
              "       [0.2957265 ],\n",
              "       [0.56752137],\n",
              "       [0.63931624],\n",
              "       [0.42905983],\n",
              "       [0.32649573],\n",
              "       [0.40512821],\n",
              "       [0.38803419],\n",
              "       [0.5025641 ],\n",
              "       [0.35555556],\n",
              "       [0.32649573],\n",
              "       [0.2957265 ],\n",
              "       [0.07863248],\n",
              "       [0.03076923],\n",
              "       [0.13846154],\n",
              "       [0.0957265 ],\n",
              "       [0.12820513],\n",
              "       [0.15897436],\n",
              "       [0.07179487],\n",
              "       [0.08547009],\n",
              "       [0.07863248],\n",
              "       [0.07863248],\n",
              "       [0.1042735 ],\n",
              "       [0.03931624],\n",
              "       [0.08376068],\n",
              "       [0.08547009],\n",
              "       [0.07179487],\n",
              "       [0.01538462],\n",
              "       [0.04957265],\n",
              "       [0.03760684],\n",
              "       [0.05128205],\n",
              "       [0.07863248],\n",
              "       [0.03931624],\n",
              "       [0.09401709],\n",
              "       [0.07008547],\n",
              "       [0.13162393],\n",
              "       [0.18803419],\n",
              "       [0.15384615],\n",
              "       [0.04444444],\n",
              "       [0.02735043],\n",
              "       [0.05299145],\n",
              "       [0.06324786],\n",
              "       [0.09230769],\n",
              "       [0.0957265 ],\n",
              "       [0.08717949],\n",
              "       [0.07179487],\n",
              "       [0.07179487],\n",
              "       [0.05811966],\n",
              "       [0.10940171],\n",
              "       [0.1025641 ],\n",
              "       [0.20854701],\n",
              "       [0.17094017],\n",
              "       [0.20512821],\n",
              "       [0.22393162],\n",
              "       [0.1982906 ],\n",
              "       [0.22905983],\n",
              "       [0.1965812 ],\n",
              "       [0.09401709],\n",
              "       [0.12478632],\n",
              "       [0.15555556],\n",
              "       [0.16410256],\n",
              "       [0.21538462],\n",
              "       [0.1982906 ],\n",
              "       [0.23076923],\n",
              "       [0.23931624],\n",
              "       [0.19487179],\n",
              "       [0.14358974],\n",
              "       [0.15384615],\n",
              "       [0.12307692],\n",
              "       [0.14188034],\n",
              "       [0.17264957],\n",
              "       [0.23418803],\n",
              "       [0.22735043],\n",
              "       [0.16068376],\n",
              "       [0.11794872],\n",
              "       [0.21025641],\n",
              "       [0.2       ],\n",
              "       [0.18119658],\n",
              "       [0.17606838],\n",
              "       [0.14358974],\n",
              "       [0.19487179],\n",
              "       [0.18632479],\n",
              "       [0.22051282],\n",
              "       [0.22222222],\n",
              "       [0.1982906 ],\n",
              "       [0.3042735 ],\n",
              "       [0.44102564],\n",
              "       [0.3008547 ],\n",
              "       [0.25299145],\n",
              "       [0.20512821],\n",
              "       [0.21709402],\n",
              "       [0.11965812],\n",
              "       [0.07863248],\n",
              "       [0.13675214],\n",
              "       [0.21196581],\n",
              "       [0.1982906 ],\n",
              "       [0.17948718],\n",
              "       [0.14358974],\n",
              "       [0.18290598],\n",
              "       [0.2017094 ],\n",
              "       [0.16068376],\n",
              "       [0.23760684],\n",
              "       [0.15555556],\n",
              "       [0.17606838],\n",
              "       [0.19316239],\n",
              "       [0.21367521],\n",
              "       [0.14529915],\n",
              "       [0.13846154],\n",
              "       [0.11111111],\n",
              "       [0.08888889],\n",
              "       [0.05128205],\n",
              "       [0.14700855],\n",
              "       [0.14700855],\n",
              "       [0.20854701],\n",
              "       [0.16752137],\n",
              "       [0.04102564],\n",
              "       [0.09059829],\n",
              "       [0.14188034],\n",
              "       [0.1025641 ],\n",
              "       [0.0991453 ],\n",
              "       [0.17948718],\n",
              "       [0.18974359],\n",
              "       [0.14700855],\n",
              "       [0.07521368],\n",
              "       [0.10940171],\n",
              "       [0.0957265 ],\n",
              "       [0.09059829],\n",
              "       [0.10769231],\n",
              "       [0.06153846],\n",
              "       [0.05811966],\n",
              "       [0.10769231],\n",
              "       [0.05811966],\n",
              "       [0.15213675],\n",
              "       [0.07692308],\n",
              "       [0.06153846],\n",
              "       [0.0957265 ],\n",
              "       [0.05641026],\n",
              "       [0.05641026],\n",
              "       [0.07521368],\n",
              "       [0.09059829],\n",
              "       [0.08888889],\n",
              "       [0.17435897],\n",
              "       [0.17777778],\n",
              "       [0.13675214],\n",
              "       [0.15042735],\n",
              "       [0.1025641 ],\n",
              "       [0.08205128],\n",
              "       [0.09059829],\n",
              "       [0.53162393],\n",
              "       [0.56410256],\n",
              "       [0.55726496],\n",
              "       [0.64273504],\n",
              "       [0.72307692],\n",
              "       [0.24273504],\n",
              "       [0.2991453 ],\n",
              "       [0.28376068],\n",
              "       [0.44615385],\n",
              "       [0.36068376],\n",
              "       [0.28205128],\n",
              "       [0.24615385],\n",
              "       [0.28205128],\n",
              "       [0.3982906 ],\n",
              "       [0.45299145],\n",
              "       [0.43931624],\n",
              "       [0.4957265 ],\n",
              "       [0.48547009],\n",
              "       [0.36068376],\n",
              "       [0.50769231],\n",
              "       [0.42393162],\n",
              "       [0.37264957],\n",
              "       [0.4       ],\n",
              "       [0.43760684],\n",
              "       [0.31965812],\n",
              "       [0.2017094 ],\n",
              "       [0.20512821],\n",
              "       [0.23076923],\n",
              "       [0.21025641],\n",
              "       [0.29059829],\n",
              "       [0.32649573],\n",
              "       [0.3008547 ],\n",
              "       [0.21196581],\n",
              "       [0.33675214],\n",
              "       [0.33846154],\n",
              "       [0.26666667],\n",
              "       [0.26324786],\n",
              "       [0.23076923],\n",
              "       [0.22564103],\n",
              "       [0.23418803],\n",
              "       [0.23760684],\n",
              "       [0.25811966],\n",
              "       [0.27521368],\n",
              "       [0.35897436],\n",
              "       [0.28717949],\n",
              "       [0.1965812 ],\n",
              "       [0.17264957],\n",
              "       [0.1965812 ],\n",
              "       [0.28205128],\n",
              "       [0.22564103],\n",
              "       [0.25982906],\n",
              "       [0.26666667],\n",
              "       [0.3008547 ],\n",
              "       [0.30769231],\n",
              "       [0.35897436],\n",
              "       [0.27863248],\n",
              "       [0.27863248],\n",
              "       [0.24102564],\n",
              "       [0.17435897],\n",
              "       [0.23760684],\n",
              "       [0.20512821],\n",
              "       [0.21196581],\n",
              "       [0.25128205],\n",
              "       [0.22222222],\n",
              "       [0.12991453],\n",
              "       [0.11282051],\n",
              "       [0.13675214],\n",
              "       [0.1965812 ],\n",
              "       [0.19316239],\n",
              "       [0.17777778],\n",
              "       [0.17264957],\n",
              "       [0.17264957],\n",
              "       [0.17264957],\n",
              "       [0.08205128],\n",
              "       [0.05470085],\n",
              "       [0.10598291],\n",
              "       [0.22905983],\n",
              "       [0.13504274],\n",
              "       [0.16068376],\n",
              "       [0.1042735 ],\n",
              "       [0.15897436],\n",
              "       [0.18290598],\n",
              "       [0.19487179],\n",
              "       [0.18632479],\n",
              "       [0.21709402],\n",
              "       [0.22905983],\n",
              "       [0.24273504],\n",
              "       [0.24615385],\n",
              "       [0.23076923],\n",
              "       [0.24102564],\n",
              "       [0.22564103],\n",
              "       [0.21709402],\n",
              "       [0.14700855],\n",
              "       [0.15726496],\n",
              "       [0.1982906 ],\n",
              "       [0.22222222],\n",
              "       [0.20512821],\n",
              "       [0.21880342],\n",
              "       [0.25299145],\n",
              "       [0.23247863],\n",
              "       [0.28205128],\n",
              "       [0.32307692],\n",
              "       [0.25128205],\n",
              "       [0.3025641 ],\n",
              "       [0.32307692],\n",
              "       [0.1965812 ],\n",
              "       [0.16239316],\n",
              "       [0.19145299],\n",
              "       [0.22905983],\n",
              "       [0.48034188],\n",
              "       [0.54358974],\n",
              "       [0.33504274],\n",
              "       [0.49059829],\n",
              "       [0.47692308],\n",
              "       [0.31794872],\n",
              "       [0.2991453 ],\n",
              "       [0.60683761],\n",
              "       [0.45128205],\n",
              "       [0.36239316],\n",
              "       [0.48034188],\n",
              "       [0.43931624],\n",
              "       [0.45811966],\n",
              "       [0.54017094],\n",
              "       [0.44615385],\n",
              "       [0.36581197],\n",
              "       [0.3025641 ],\n",
              "       [0.25641026],\n",
              "       [0.34358974],\n",
              "       [0.4017094 ],\n",
              "       [0.41538462],\n",
              "       [0.36752137],\n",
              "       [0.45128205],\n",
              "       [0.47521368],\n",
              "       [0.42564103],\n",
              "       [0.3042735 ],\n",
              "       [0.30940171],\n",
              "       [0.36581197],\n",
              "       [0.44615385],\n",
              "       [0.48888889],\n",
              "       [0.52307692],\n",
              "       [0.35213675],\n",
              "       [0.32649573],\n",
              "       [0.38632479],\n",
              "       [0.33504274],\n",
              "       [0.38119658],\n",
              "       [0.49059829],\n",
              "       [0.46495726],\n",
              "       [0.5025641 ],\n",
              "       [0.44102564],\n",
              "       [0.41196581],\n",
              "       [0.40683761],\n",
              "       [0.39487179],\n",
              "       [0.28717949],\n",
              "       [0.27863248],\n",
              "       [0.27863248],\n",
              "       [0.29401709],\n",
              "       [0.40512821],\n",
              "       [0.41367521],\n",
              "       [0.3982906 ],\n",
              "       [0.25641026],\n",
              "       [0.47692308],\n",
              "       [0.6034188 ],\n",
              "       [0.37606838],\n",
              "       [0.3025641 ],\n",
              "       [0.31111111],\n",
              "       [0.34358974],\n",
              "       [0.32649573],\n",
              "       [0.3042735 ],\n",
              "       [0.37777778],\n",
              "       [0.43931624],\n",
              "       [0.15897436],\n",
              "       [0.16239316],\n",
              "       [0.15213675],\n",
              "       [0.07350427],\n",
              "       [0.04273504],\n",
              "       [0.1025641 ],\n",
              "       [0.1965812 ],\n",
              "       [0.17777778],\n",
              "       [0.11965812],\n",
              "       [0.07008547],\n",
              "       [0.07692308],\n",
              "       [0.08376068],\n",
              "       [0.07350427],\n",
              "       [0.14358974],\n",
              "       [0.16752137],\n",
              "       [0.20683761],\n",
              "       [0.18632479],\n",
              "       [0.16923077],\n",
              "       [0.11111111],\n",
              "       [0.11111111],\n",
              "       [0.08888889],\n",
              "       [0.07863248],\n",
              "       [0.11965812],\n",
              "       [0.11111111],\n",
              "       [0.05811966],\n",
              "       [0.04444444],\n",
              "       [0.04102564],\n",
              "       [0.08205128],\n",
              "       [0.03760684],\n",
              "       [0.06495726],\n",
              "       [0.07179487],\n",
              "       [0.0974359 ],\n",
              "       [0.11452991],\n",
              "       [0.12307692],\n",
              "       [0.16239316],\n",
              "       [0.16410256],\n",
              "       [0.15384615],\n",
              "       [0.19316239],\n",
              "       [0.13333333],\n",
              "       [0.18632479],\n",
              "       [0.16752137],\n",
              "       [0.13333333],\n",
              "       [0.16752137],\n",
              "       [0.17606838],\n",
              "       [0.13504274],\n",
              "       [0.14358974],\n",
              "       [0.16410256],\n",
              "       [0.14871795],\n",
              "       [0.06324786],\n",
              "       [0.06153846],\n",
              "       [0.09230769],\n",
              "       [0.12649573],\n",
              "       [0.10940171],\n",
              "       [0.07863248],\n",
              "       [0.11965812],\n",
              "       [0.12478632],\n",
              "       [0.14188034],\n",
              "       [0.21025641],\n",
              "       [0.19316239],\n",
              "       [0.20683761],\n",
              "       [0.19316239],\n",
              "       [0.11452991],\n",
              "       [0.16923077],\n",
              "       [0.09059829],\n",
              "       [0.08205128],\n",
              "       [0.11965812],\n",
              "       [0.10598291],\n",
              "       [0.12820513],\n",
              "       [0.23076923],\n",
              "       [0.22735043],\n",
              "       [0.22564103],\n",
              "       [0.24615385],\n",
              "       [0.07692308],\n",
              "       [0.1982906 ],\n",
              "       [0.17264957],\n",
              "       [0.07692308],\n",
              "       [0.06837607],\n",
              "       [0.12991453],\n",
              "       [0.15042735],\n",
              "       [0.08376068],\n",
              "       [0.14529915],\n",
              "       [0.17435897],\n",
              "       [0.11623932],\n",
              "       [0.2017094 ],\n",
              "       [0.2017094 ],\n",
              "       [0.13504274],\n",
              "       [0.17606838],\n",
              "       [0.18632479],\n",
              "       [0.16923077],\n",
              "       [0.13675214],\n",
              "       [0.2       ],\n",
              "       [0.24273504],\n",
              "       [0.24444444],\n",
              "       [0.21709402],\n",
              "       [0.21196581],\n",
              "       [0.21538462],\n",
              "       [0.26837607],\n",
              "       [0.23076923],\n",
              "       [0.16239316],\n",
              "       [0.19487179],\n",
              "       [0.2       ],\n",
              "       [0.15555556],\n",
              "       [0.18974359],\n",
              "       [0.20512821],\n",
              "       [0.18803419],\n",
              "       [0.21709402],\n",
              "       [0.21025641],\n",
              "       [0.28888889],\n",
              "       [0.31282051],\n",
              "       [0.25470085],\n",
              "       [0.21025641],\n",
              "       [0.22393162],\n",
              "       [0.20683761],\n",
              "       [0.22393162],\n",
              "       [0.23418803],\n",
              "       [0.21196581],\n",
              "       [0.15726496],\n",
              "       [0.18290598],\n",
              "       [0.2017094 ],\n",
              "       [0.21880342],\n",
              "       [0.2       ],\n",
              "       [0.21880342],\n",
              "       [0.18974359],\n",
              "       [0.18290598],\n",
              "       [0.17606838],\n",
              "       [0.16239316],\n",
              "       [0.22051282],\n",
              "       [0.22393162],\n",
              "       [0.21196581],\n",
              "       [0.1982906 ],\n",
              "       [0.30598291],\n",
              "       [0.20683761],\n",
              "       [0.19487179],\n",
              "       [0.20854701],\n",
              "       [0.16581197],\n",
              "       [0.09059829],\n",
              "       [0.16752137],\n",
              "       [0.18974359],\n",
              "       [0.26666667],\n",
              "       [0.22393162],\n",
              "       [0.21367521],\n",
              "       [0.23760684],\n",
              "       [0.16581197],\n",
              "       [0.22222222],\n",
              "       [0.19145299],\n",
              "       [0.17264957],\n",
              "       [0.18461538],\n",
              "       [0.23247863],\n",
              "       [0.22222222],\n",
              "       [0.23076923],\n",
              "       [0.23589744],\n",
              "       [0.24957265],\n",
              "       [0.23931624],\n",
              "       [0.13333333],\n",
              "       [0.22393162],\n",
              "       [0.25811966],\n",
              "       [0.24957265],\n",
              "       [0.16410256],\n",
              "       [0.14700855],\n",
              "       [0.15897436],\n",
              "       [0.17777778],\n",
              "       [0.12307692],\n",
              "       [0.18461538],\n",
              "       [0.52991453],\n",
              "       [0.3042735 ],\n",
              "       [0.24957265],\n",
              "       [0.2991453 ],\n",
              "       [0.26324786],\n",
              "       [0.33504274],\n",
              "       [0.41709402],\n",
              "       [0.44273504],\n",
              "       [0.47008547],\n",
              "       [0.40854701],\n",
              "       [0.47863248],\n",
              "       [0.50940171],\n",
              "       [0.43589744],\n",
              "       [0.37264957],\n",
              "       [0.39316239],\n",
              "       [0.36410256],\n",
              "       [0.39316239],\n",
              "       [0.42735043],\n",
              "       [0.45299145],\n",
              "       [0.41709402],\n",
              "       [0.37606838],\n",
              "       [0.34017094],\n",
              "       [0.22393162],\n",
              "       [0.23931624],\n",
              "       [0.26666667],\n",
              "       [0.3025641 ],\n",
              "       [0.28034188],\n",
              "       [0.29059829],\n",
              "       [0.29230769],\n",
              "       [0.26324786],\n",
              "       [0.27521368],\n",
              "       [0.41367521],\n",
              "       [0.35042735],\n",
              "       [0.28034188],\n",
              "       [0.24615385],\n",
              "       [0.23247863],\n",
              "       [0.32820513],\n",
              "       [0.30940171],\n",
              "       [0.2974359 ],\n",
              "       [0.15384615],\n",
              "       [0.24615385],\n",
              "       [0.2974359 ],\n",
              "       [0.32820513],\n",
              "       [0.25470085],\n",
              "       [0.35042735],\n",
              "       [0.37948718],\n",
              "       [0.33675214],\n",
              "       [0.28376068],\n",
              "       [0.30598291],\n",
              "       [0.32649573],\n",
              "       [0.26495726],\n",
              "       [0.29230769],\n",
              "       [0.28376068],\n",
              "       [0.33846154],\n",
              "       [0.29401709],\n",
              "       [0.2034188 ],\n",
              "       [0.21538462],\n",
              "       [0.23931624],\n",
              "       [0.11452991],\n",
              "       [0.16581197],\n",
              "       [0.18803419],\n",
              "       [0.1982906 ],\n",
              "       [0.25982906],\n",
              "       [0.13846154],\n",
              "       [0.11794872],\n",
              "       [0.17948718],\n",
              "       [0.1982906 ],\n",
              "       [0.24273504],\n",
              "       [0.2034188 ],\n",
              "       [0.26324786],\n",
              "       [0.17094017],\n",
              "       [0.03247863],\n",
              "       [0.0991453 ],\n",
              "       [0.14358974],\n",
              "       [0.17094017],\n",
              "       [0.14871795],\n",
              "       [0.19487179],\n",
              "       [0.1965812 ],\n",
              "       [0.21538462],\n",
              "       [0.21538462],\n",
              "       [0.2       ],\n",
              "       [0.24273504],\n",
              "       [0.24273504],\n",
              "       [0.12991453],\n",
              "       [0.21025641],\n",
              "       [0.15897436],\n",
              "       [0.16410256],\n",
              "       [0.23760684],\n",
              "       [0.24957265],\n",
              "       [0.22222222],\n",
              "       [0.16239316],\n",
              "       [0.19487179],\n",
              "       [0.23247863],\n",
              "       [0.15726496],\n",
              "       [0.08205128],\n",
              "       [0.15384615],\n",
              "       [0.22905983],\n",
              "       [0.24786325],\n",
              "       [0.27863248],\n",
              "       [0.31965812],\n",
              "       [0.2957265 ],\n",
              "       [0.29401709],\n",
              "       [0.32649573],\n",
              "       [0.38803419],\n",
              "       [0.55042735],\n",
              "       [0.73675214],\n",
              "       [0.24786325],\n",
              "       [0.33846154],\n",
              "       [0.41025641],\n",
              "       [0.47350427],\n",
              "       [0.42393162],\n",
              "       [0.43931624],\n",
              "       [0.44273504],\n",
              "       [0.38632479],\n",
              "       [0.3982906 ],\n",
              "       [0.52820513],\n",
              "       [0.38119658],\n",
              "       [0.35897436],\n",
              "       [0.35213675],\n",
              "       [0.53162393],\n",
              "       [0.34358974],\n",
              "       [0.45128205],\n",
              "       [0.53504274],\n",
              "       [0.65982906],\n",
              "       [0.27521368],\n",
              "       [0.3042735 ],\n",
              "       [0.38290598],\n",
              "       [0.43247863],\n",
              "       [0.45299145],\n",
              "       [0.45811966],\n",
              "       [0.39145299],\n",
              "       [0.38119658],\n",
              "       [0.3008547 ],\n",
              "       [0.31452991],\n",
              "       [0.32307692],\n",
              "       [0.34871795],\n",
              "       [0.44957265],\n",
              "       [0.39316239],\n",
              "       [0.37094017],\n",
              "       [0.21880342],\n",
              "       [0.20854701],\n",
              "       [0.23247863],\n",
              "       [0.25982906],\n",
              "       [0.36410256],\n",
              "       [0.30940171],\n",
              "       [0.25641026],\n",
              "       [0.27692308],\n",
              "       [0.43247863],\n",
              "       [0.3025641 ],\n",
              "       [0.32307692],\n",
              "       [0.38974359],\n",
              "       [0.40854701],\n",
              "       [0.1982906 ],\n",
              "       [0.15213675],\n",
              "       [0.28205128],\n",
              "       [0.31452991],\n",
              "       [0.41196581],\n",
              "       [0.61538462],\n",
              "       [0.35042735],\n",
              "       [0.4957265 ],\n",
              "       [0.62564103],\n",
              "       [0.5008547 ],\n",
              "       [0.67179487],\n",
              "       [0.45641026],\n",
              "       [0.41367521],\n",
              "       [0.48888889],\n",
              "       [0.59316239],\n",
              "       [0.20854701],\n",
              "       [0.18632479],\n",
              "       [0.18974359],\n",
              "       [0.24615385],\n",
              "       [0.21367521],\n",
              "       [0.21709402],\n",
              "       [0.22564103],\n",
              "       [0.18461538],\n",
              "       [0.21538462],\n",
              "       [0.18119658],\n",
              "       [0.14700855],\n",
              "       [0.22051282],\n",
              "       [0.24786325],\n",
              "       [0.22051282],\n",
              "       [0.24957265],\n",
              "       [0.15384615],\n",
              "       [0.12136752],\n",
              "       [0.00512821],\n",
              "       [0.00854701],\n",
              "       [0.05811966],\n",
              "       [0.03589744],\n",
              "       [0.05299145],\n",
              "       [0.11623932],\n",
              "       [0.19316239],\n",
              "       [0.10940171],\n",
              "       [0.15042735],\n",
              "       [0.16410256],\n",
              "       [0.1965812 ],\n",
              "       [0.16410256],\n",
              "       [0.17606838],\n",
              "       [0.12478632],\n",
              "       [0.17948718],\n",
              "       [0.14358974],\n",
              "       [0.14529915],\n",
              "       [0.14017094],\n",
              "       [0.16752137],\n",
              "       [0.12307692],\n",
              "       [0.1008547 ],\n",
              "       [0.11452991],\n",
              "       [0.12649573],\n",
              "       [0.12991453],\n",
              "       [0.10598291],\n",
              "       [0.15897436],\n",
              "       [0.22393162],\n",
              "       [0.27179487],\n",
              "       [0.27521368],\n",
              "       [0.21367521],\n",
              "       [0.20512821],\n",
              "       [0.27863248],\n",
              "       [0.2       ],\n",
              "       [0.21538462],\n",
              "       [0.21025641],\n",
              "       [0.23931624],\n",
              "       [0.18461538],\n",
              "       [0.29230769],\n",
              "       [0.23931624],\n",
              "       [0.21709402],\n",
              "       [0.28376068],\n",
              "       [0.24102564],\n",
              "       [0.22222222],\n",
              "       [0.14529915],\n",
              "       [0.20683761],\n",
              "       [0.14188034],\n",
              "       [0.1982906 ],\n",
              "       [0.18803419],\n",
              "       [0.27863248],\n",
              "       [0.25128205],\n",
              "       [0.24102564],\n",
              "       [0.21367521],\n",
              "       [0.28205128],\n",
              "       [0.35897436],\n",
              "       [0.21880342],\n",
              "       [0.32820513],\n",
              "       [0.27350427],\n",
              "       [0.22051282],\n",
              "       [0.24102564],\n",
              "       [0.21025641],\n",
              "       [0.1965812 ],\n",
              "       [0.24102564],\n",
              "       [0.36923077],\n",
              "       [0.23931624],\n",
              "       [0.2974359 ],\n",
              "       [0.1965812 ],\n",
              "       [0.22905983],\n",
              "       [0.17777778],\n",
              "       [0.14017094],\n",
              "       [0.22564103],\n",
              "       [0.22393162],\n",
              "       [0.24102564],\n",
              "       [0.21538462],\n",
              "       [0.17948718],\n",
              "       [0.2017094 ],\n",
              "       [0.23418803],\n",
              "       [0.22735043],\n",
              "       [0.21025641],\n",
              "       [0.14700855],\n",
              "       [0.13504274],\n",
              "       [0.13333333],\n",
              "       [0.20854701],\n",
              "       [0.24102564],\n",
              "       [0.25982906],\n",
              "       [0.37264957],\n",
              "       [0.2017094 ],\n",
              "       [0.15042735],\n",
              "       [0.24102564],\n",
              "       [0.21196581],\n",
              "       [0.23760684],\n",
              "       [0.22905983],\n",
              "       [0.21880342],\n",
              "       [0.24102564],\n",
              "       [0.20512821],\n",
              "       [0.23076923],\n",
              "       [0.22051282],\n",
              "       [0.21196581],\n",
              "       [0.2       ],\n",
              "       [0.16752137],\n",
              "       [0.1982906 ],\n",
              "       [0.18632479],\n",
              "       [0.17948718],\n",
              "       [0.24273504],\n",
              "       [0.20683761],\n",
              "       [0.16923077],\n",
              "       [0.37606838],\n",
              "       [0.47863248],\n",
              "       [0.39487179],\n",
              "       [0.41196581],\n",
              "       [0.61880342],\n",
              "       [0.74871795],\n",
              "       [0.58632479],\n",
              "       [0.5008547 ],\n",
              "       [0.47692308],\n",
              "       [0.68205128],\n",
              "       [0.66837607],\n",
              "       [0.36752137],\n",
              "       [0.41025641],\n",
              "       [0.46324786],\n",
              "       [0.52307692],\n",
              "       [0.62735043],\n",
              "       [0.67863248],\n",
              "       [0.50598291],\n",
              "       [0.2957265 ],\n",
              "       [0.34871795],\n",
              "       [0.16581197],\n",
              "       [0.16923077],\n",
              "       [0.17264957],\n",
              "       [0.17777778],\n",
              "       [0.35384615],\n",
              "       [0.29230769],\n",
              "       [0.3982906 ],\n",
              "       [0.47692308],\n",
              "       [0.45299145],\n",
              "       [0.52478632],\n",
              "       [0.39316239],\n",
              "       [0.29230769],\n",
              "       [0.33162393],\n",
              "       [0.27179487],\n",
              "       [0.28205128],\n",
              "       [0.20512821],\n",
              "       [0.23076923],\n",
              "       [0.1965812 ],\n",
              "       [0.22222222],\n",
              "       [0.28376068],\n",
              "       [0.25811966],\n",
              "       [0.29059829],\n",
              "       [0.21025641],\n",
              "       [0.34700855],\n",
              "       [0.25470085],\n",
              "       [0.40512821],\n",
              "       [0.36410256],\n",
              "       [0.55555556],\n",
              "       [0.26324786],\n",
              "       [0.27008547],\n",
              "       [0.23247863],\n",
              "       [0.26153846],\n",
              "       [0.31965812],\n",
              "       [0.16752137],\n",
              "       [0.15213675],\n",
              "       [0.22051282],\n",
              "       [0.21025641],\n",
              "       [0.18974359],\n",
              "       [0.21196581],\n",
              "       [0.18290598],\n",
              "       [0.22222222],\n",
              "       [0.20512821],\n",
              "       [0.2       ],\n",
              "       [0.24444444],\n",
              "       [0.12991453],\n",
              "       [0.11282051],\n",
              "       [0.12991453],\n",
              "       [0.15555556],\n",
              "       [0.2       ],\n",
              "       [0.24273504],\n",
              "       [0.23589744],\n",
              "       [0.25982906],\n",
              "       [0.13846154],\n",
              "       [0.14529915],\n",
              "       [0.18290598],\n",
              "       [0.23418803],\n",
              "       [0.24102564],\n",
              "       [0.53504274],\n",
              "       [0.13162393],\n",
              "       [0.22905983],\n",
              "       [0.23418803],\n",
              "       [0.20512821],\n",
              "       [0.22051282],\n",
              "       [0.2017094 ],\n",
              "       [0.14358974],\n",
              "       [0.16581197]])"
            ]
          },
          "metadata": {
            "tags": []
          },
          "execution_count": 19
        }
      ]
    },
    {
      "cell_type": "code",
      "metadata": {
        "id": "QvHuCaslfeWI"
      },
      "source": [
        "import numpy\n",
        "\n",
        "def create_dataset(dataset,time_step=1):\n",
        "  dataX,dataY=[],[]\n",
        "  for i in range(len(dataset)-time_step-1):\n",
        "    a=dataset[i:(i+time_step),0]\n",
        "\n",
        "    dataX.append(a)\n",
        "    dataY.append(dataset[i + time_step,0])\n",
        "\n",
        "  return numpy.array(dataX),numpy.array(dataY)"
      ],
      "execution_count": 20,
      "outputs": []
    },
    {
      "cell_type": "code",
      "metadata": {
        "id": "paBqVkrUht0p"
      },
      "source": [
        "time_step=100\n",
        "X_train,y_train = create_dataset(train_data,time_step)\n",
        "X_test,y_test=create_dataset(test_data,time_step)"
      ],
      "execution_count": 21,
      "outputs": []
    },
    {
      "cell_type": "code",
      "metadata": {
        "colab": {
          "base_uri": "https://localhost:8080/"
        },
        "id": "f3sH8LLkiA_R",
        "outputId": "bef9a2dc-be11-47b1-f848-3a3a28465bea"
      },
      "source": [
        "print(X_train.shape),print(y_train.shape)"
      ],
      "execution_count": 22,
      "outputs": [
        {
          "output_type": "stream",
          "text": [
            "(1540, 100)\n",
            "(1540,)\n"
          ],
          "name": "stdout"
        },
        {
          "output_type": "execute_result",
          "data": {
            "text/plain": [
              "(None, None)"
            ]
          },
          "metadata": {
            "tags": []
          },
          "execution_count": 22
        }
      ]
    },
    {
      "cell_type": "code",
      "metadata": {
        "colab": {
          "base_uri": "https://localhost:8080/"
        },
        "id": "3SBLLE5LiuEb",
        "outputId": "34632f02-167c-481f-cd88-e93ed96ff52e"
      },
      "source": [
        "print(X_test.shape),print(y_test.shape)"
      ],
      "execution_count": 23,
      "outputs": [
        {
          "output_type": "stream",
          "text": [
            "(784, 100)\n",
            "(784,)\n"
          ],
          "name": "stdout"
        },
        {
          "output_type": "execute_result",
          "data": {
            "text/plain": [
              "(None, None)"
            ]
          },
          "metadata": {
            "tags": []
          },
          "execution_count": 23
        }
      ]
    },
    {
      "cell_type": "code",
      "metadata": {
        "id": "ql86OXR-i02k"
      },
      "source": [
        "# reuired for LSTM\n",
        "X_train = X_train.reshape(X_train.shape[0],X_train.shape[1],1)\n",
        "X_test = X_test.reshape(X_test.shape[0],X_test.shape[1],1)"
      ],
      "execution_count": 24,
      "outputs": []
    },
    {
      "cell_type": "code",
      "metadata": {
        "id": "iQQFk587jfIm"
      },
      "source": [
        "from tensorflow.keras.models import Sequential\n",
        "from tensorflow.keras.layers import Dense\n",
        "from tensorflow.keras.layers import LSTM"
      ],
      "execution_count": 25,
      "outputs": []
    },
    {
      "cell_type": "code",
      "metadata": {
        "id": "xnbZei75j5nv"
      },
      "source": [
        "model = Sequential()\n",
        "model.add(LSTM(50,return_sequences=True,input_shape=(100,1)))\n",
        "model.add(LSTM(50,return_sequences=True))\n",
        "model.add(LSTM(50))\n",
        "model.add(Dense(1))\n",
        "model.compile(loss='mean_squared_error',optimizer='adam')"
      ],
      "execution_count": 26,
      "outputs": []
    },
    {
      "cell_type": "code",
      "metadata": {
        "colab": {
          "base_uri": "https://localhost:8080/"
        },
        "id": "4lElYJSkkrdL",
        "outputId": "429c432d-a2bc-4d98-cd61-df676d9375ad"
      },
      "source": [
        "model.summary()"
      ],
      "execution_count": 27,
      "outputs": [
        {
          "output_type": "stream",
          "text": [
            "Model: \"sequential\"\n",
            "_________________________________________________________________\n",
            "Layer (type)                 Output Shape              Param #   \n",
            "=================================================================\n",
            "lstm (LSTM)                  (None, 100, 50)           10400     \n",
            "_________________________________________________________________\n",
            "lstm_1 (LSTM)                (None, 100, 50)           20200     \n",
            "_________________________________________________________________\n",
            "lstm_2 (LSTM)                (None, 50)                20200     \n",
            "_________________________________________________________________\n",
            "dense (Dense)                (None, 1)                 51        \n",
            "=================================================================\n",
            "Total params: 50,851\n",
            "Trainable params: 50,851\n",
            "Non-trainable params: 0\n",
            "_________________________________________________________________\n"
          ],
          "name": "stdout"
        }
      ]
    },
    {
      "cell_type": "code",
      "metadata": {
        "colab": {
          "base_uri": "https://localhost:8080/"
        },
        "id": "KEn_q_UskuR4",
        "outputId": "fd7e1976-1f9f-4890-a272-5d4bf49239cb"
      },
      "source": [
        "model.fit(X_train,y_train,validation_data=(X_test,y_test),epochs=100,batch_size=64,verbose=1)"
      ],
      "execution_count": 28,
      "outputs": [
        {
          "output_type": "stream",
          "text": [
            "Epoch 1/100\n",
            "25/25 [==============================] - 11s 55ms/step - loss: 0.0188 - val_loss: 0.0117\n",
            "Epoch 2/100\n",
            "25/25 [==============================] - 0s 15ms/step - loss: 0.0122 - val_loss: 0.0118\n",
            "Epoch 3/100\n",
            "25/25 [==============================] - 0s 15ms/step - loss: 0.0113 - val_loss: 0.0101\n",
            "Epoch 4/100\n",
            "25/25 [==============================] - 0s 16ms/step - loss: 0.0106 - val_loss: 0.0097\n",
            "Epoch 5/100\n",
            "25/25 [==============================] - 0s 16ms/step - loss: 0.0103 - val_loss: 0.0097\n",
            "Epoch 6/100\n",
            "25/25 [==============================] - 0s 16ms/step - loss: 0.0098 - val_loss: 0.0094\n",
            "Epoch 7/100\n",
            "25/25 [==============================] - 0s 16ms/step - loss: 0.0096 - val_loss: 0.0090\n",
            "Epoch 8/100\n",
            "25/25 [==============================] - 0s 15ms/step - loss: 0.0095 - val_loss: 0.0087\n",
            "Epoch 9/100\n",
            "25/25 [==============================] - 0s 16ms/step - loss: 0.0093 - val_loss: 0.0098\n",
            "Epoch 10/100\n",
            "25/25 [==============================] - 0s 16ms/step - loss: 0.0091 - val_loss: 0.0081\n",
            "Epoch 11/100\n",
            "25/25 [==============================] - 0s 15ms/step - loss: 0.0082 - val_loss: 0.0080\n",
            "Epoch 12/100\n",
            "25/25 [==============================] - 0s 16ms/step - loss: 0.0077 - val_loss: 0.0078\n",
            "Epoch 13/100\n",
            "25/25 [==============================] - 0s 16ms/step - loss: 0.0074 - val_loss: 0.0074\n",
            "Epoch 14/100\n",
            "25/25 [==============================] - 0s 16ms/step - loss: 0.0073 - val_loss: 0.0071\n",
            "Epoch 15/100\n",
            "25/25 [==============================] - 0s 16ms/step - loss: 0.0069 - val_loss: 0.0069\n",
            "Epoch 16/100\n",
            "25/25 [==============================] - 0s 16ms/step - loss: 0.0068 - val_loss: 0.0073\n",
            "Epoch 17/100\n",
            "25/25 [==============================] - 0s 16ms/step - loss: 0.0068 - val_loss: 0.0071\n",
            "Epoch 18/100\n",
            "25/25 [==============================] - 0s 16ms/step - loss: 0.0064 - val_loss: 0.0064\n",
            "Epoch 19/100\n",
            "25/25 [==============================] - 0s 16ms/step - loss: 0.0061 - val_loss: 0.0061\n",
            "Epoch 20/100\n",
            "25/25 [==============================] - 0s 15ms/step - loss: 0.0062 - val_loss: 0.0062\n",
            "Epoch 21/100\n",
            "25/25 [==============================] - 0s 17ms/step - loss: 0.0063 - val_loss: 0.0062\n",
            "Epoch 22/100\n",
            "25/25 [==============================] - 0s 16ms/step - loss: 0.0056 - val_loss: 0.0059\n",
            "Epoch 23/100\n",
            "25/25 [==============================] - 0s 16ms/step - loss: 0.0057 - val_loss: 0.0061\n",
            "Epoch 24/100\n",
            "25/25 [==============================] - 0s 16ms/step - loss: 0.0056 - val_loss: 0.0059\n",
            "Epoch 25/100\n",
            "25/25 [==============================] - 0s 16ms/step - loss: 0.0057 - val_loss: 0.0061\n",
            "Epoch 26/100\n",
            "25/25 [==============================] - 0s 16ms/step - loss: 0.0056 - val_loss: 0.0059\n",
            "Epoch 27/100\n",
            "25/25 [==============================] - 0s 16ms/step - loss: 0.0055 - val_loss: 0.0058\n",
            "Epoch 28/100\n",
            "25/25 [==============================] - 0s 16ms/step - loss: 0.0055 - val_loss: 0.0060\n",
            "Epoch 29/100\n",
            "25/25 [==============================] - 0s 15ms/step - loss: 0.0055 - val_loss: 0.0058\n",
            "Epoch 30/100\n",
            "25/25 [==============================] - 0s 15ms/step - loss: 0.0056 - val_loss: 0.0060\n",
            "Epoch 31/100\n",
            "25/25 [==============================] - 0s 16ms/step - loss: 0.0059 - val_loss: 0.0060\n",
            "Epoch 32/100\n",
            "25/25 [==============================] - 0s 16ms/step - loss: 0.0054 - val_loss: 0.0058\n",
            "Epoch 33/100\n",
            "25/25 [==============================] - 0s 16ms/step - loss: 0.0054 - val_loss: 0.0058\n",
            "Epoch 34/100\n",
            "25/25 [==============================] - 0s 16ms/step - loss: 0.0054 - val_loss: 0.0060\n",
            "Epoch 35/100\n",
            "25/25 [==============================] - 0s 16ms/step - loss: 0.0056 - val_loss: 0.0063\n",
            "Epoch 36/100\n",
            "25/25 [==============================] - 0s 16ms/step - loss: 0.0055 - val_loss: 0.0065\n",
            "Epoch 37/100\n",
            "25/25 [==============================] - 0s 16ms/step - loss: 0.0056 - val_loss: 0.0058\n",
            "Epoch 38/100\n",
            "25/25 [==============================] - 0s 16ms/step - loss: 0.0055 - val_loss: 0.0060\n",
            "Epoch 39/100\n",
            "25/25 [==============================] - 0s 16ms/step - loss: 0.0057 - val_loss: 0.0062\n",
            "Epoch 40/100\n",
            "25/25 [==============================] - 0s 16ms/step - loss: 0.0057 - val_loss: 0.0068\n",
            "Epoch 41/100\n",
            "25/25 [==============================] - 0s 16ms/step - loss: 0.0074 - val_loss: 0.0059\n",
            "Epoch 42/100\n",
            "25/25 [==============================] - 0s 16ms/step - loss: 0.0058 - val_loss: 0.0064\n",
            "Epoch 43/100\n",
            "25/25 [==============================] - 0s 16ms/step - loss: 0.0055 - val_loss: 0.0062\n",
            "Epoch 44/100\n",
            "25/25 [==============================] - 0s 15ms/step - loss: 0.0056 - val_loss: 0.0058\n",
            "Epoch 45/100\n",
            "25/25 [==============================] - 0s 16ms/step - loss: 0.0054 - val_loss: 0.0059\n",
            "Epoch 46/100\n",
            "25/25 [==============================] - 0s 16ms/step - loss: 0.0054 - val_loss: 0.0059\n",
            "Epoch 47/100\n",
            "25/25 [==============================] - 0s 16ms/step - loss: 0.0055 - val_loss: 0.0058\n",
            "Epoch 48/100\n",
            "25/25 [==============================] - 0s 15ms/step - loss: 0.0054 - val_loss: 0.0058\n",
            "Epoch 49/100\n",
            "25/25 [==============================] - 0s 16ms/step - loss: 0.0054 - val_loss: 0.0058\n",
            "Epoch 50/100\n",
            "25/25 [==============================] - 0s 16ms/step - loss: 0.0053 - val_loss: 0.0058\n",
            "Epoch 51/100\n",
            "25/25 [==============================] - 0s 16ms/step - loss: 0.0053 - val_loss: 0.0058\n",
            "Epoch 52/100\n",
            "25/25 [==============================] - 0s 16ms/step - loss: 0.0054 - val_loss: 0.0058\n",
            "Epoch 53/100\n",
            "25/25 [==============================] - 0s 16ms/step - loss: 0.0060 - val_loss: 0.0057\n",
            "Epoch 54/100\n",
            "25/25 [==============================] - 0s 15ms/step - loss: 0.0056 - val_loss: 0.0057\n",
            "Epoch 55/100\n",
            "25/25 [==============================] - 0s 16ms/step - loss: 0.0054 - val_loss: 0.0058\n",
            "Epoch 56/100\n",
            "25/25 [==============================] - 0s 16ms/step - loss: 0.0056 - val_loss: 0.0058\n",
            "Epoch 57/100\n",
            "25/25 [==============================] - 0s 16ms/step - loss: 0.0054 - val_loss: 0.0058\n",
            "Epoch 58/100\n",
            "25/25 [==============================] - 0s 16ms/step - loss: 0.0053 - val_loss: 0.0057\n",
            "Epoch 59/100\n",
            "25/25 [==============================] - 0s 16ms/step - loss: 0.0054 - val_loss: 0.0057\n",
            "Epoch 60/100\n",
            "25/25 [==============================] - 0s 16ms/step - loss: 0.0053 - val_loss: 0.0058\n",
            "Epoch 61/100\n",
            "25/25 [==============================] - 0s 15ms/step - loss: 0.0053 - val_loss: 0.0059\n",
            "Epoch 62/100\n",
            "25/25 [==============================] - 0s 16ms/step - loss: 0.0056 - val_loss: 0.0058\n",
            "Epoch 63/100\n",
            "25/25 [==============================] - 0s 16ms/step - loss: 0.0054 - val_loss: 0.0057\n",
            "Epoch 64/100\n",
            "25/25 [==============================] - 0s 16ms/step - loss: 0.0053 - val_loss: 0.0057\n",
            "Epoch 65/100\n",
            "25/25 [==============================] - 0s 16ms/step - loss: 0.0053 - val_loss: 0.0058\n",
            "Epoch 66/100\n",
            "25/25 [==============================] - 0s 16ms/step - loss: 0.0057 - val_loss: 0.0058\n",
            "Epoch 67/100\n",
            "25/25 [==============================] - 0s 16ms/step - loss: 0.0053 - val_loss: 0.0058\n",
            "Epoch 68/100\n",
            "25/25 [==============================] - 0s 16ms/step - loss: 0.0054 - val_loss: 0.0058\n",
            "Epoch 69/100\n",
            "25/25 [==============================] - 0s 15ms/step - loss: 0.0053 - val_loss: 0.0058\n",
            "Epoch 70/100\n",
            "25/25 [==============================] - 0s 16ms/step - loss: 0.0053 - val_loss: 0.0057\n",
            "Epoch 71/100\n",
            "25/25 [==============================] - 0s 16ms/step - loss: 0.0053 - val_loss: 0.0057\n",
            "Epoch 72/100\n",
            "25/25 [==============================] - 0s 16ms/step - loss: 0.0054 - val_loss: 0.0058\n",
            "Epoch 73/100\n",
            "25/25 [==============================] - 0s 16ms/step - loss: 0.0054 - val_loss: 0.0057\n",
            "Epoch 74/100\n",
            "25/25 [==============================] - 0s 16ms/step - loss: 0.0053 - val_loss: 0.0057\n",
            "Epoch 75/100\n",
            "25/25 [==============================] - 0s 15ms/step - loss: 0.0053 - val_loss: 0.0058\n",
            "Epoch 76/100\n",
            "25/25 [==============================] - 0s 16ms/step - loss: 0.0053 - val_loss: 0.0057\n",
            "Epoch 77/100\n",
            "25/25 [==============================] - 0s 16ms/step - loss: 0.0053 - val_loss: 0.0058\n",
            "Epoch 78/100\n",
            "25/25 [==============================] - 0s 16ms/step - loss: 0.0053 - val_loss: 0.0058\n",
            "Epoch 79/100\n",
            "25/25 [==============================] - 0s 16ms/step - loss: 0.0053 - val_loss: 0.0057\n",
            "Epoch 80/100\n",
            "25/25 [==============================] - 0s 16ms/step - loss: 0.0055 - val_loss: 0.0057\n",
            "Epoch 81/100\n",
            "25/25 [==============================] - 0s 15ms/step - loss: 0.0053 - val_loss: 0.0057\n",
            "Epoch 82/100\n",
            "25/25 [==============================] - 0s 16ms/step - loss: 0.0053 - val_loss: 0.0059\n",
            "Epoch 83/100\n",
            "25/25 [==============================] - 0s 16ms/step - loss: 0.0053 - val_loss: 0.0057\n",
            "Epoch 84/100\n",
            "25/25 [==============================] - 0s 15ms/step - loss: 0.0053 - val_loss: 0.0057\n",
            "Epoch 85/100\n",
            "25/25 [==============================] - 0s 16ms/step - loss: 0.0052 - val_loss: 0.0057\n",
            "Epoch 86/100\n",
            "25/25 [==============================] - 0s 16ms/step - loss: 0.0053 - val_loss: 0.0057\n",
            "Epoch 87/100\n",
            "25/25 [==============================] - 0s 17ms/step - loss: 0.0052 - val_loss: 0.0058\n",
            "Epoch 88/100\n",
            "25/25 [==============================] - 0s 16ms/step - loss: 0.0053 - val_loss: 0.0062\n",
            "Epoch 89/100\n",
            "25/25 [==============================] - 0s 16ms/step - loss: 0.0055 - val_loss: 0.0058\n",
            "Epoch 90/100\n",
            "25/25 [==============================] - 0s 16ms/step - loss: 0.0053 - val_loss: 0.0057\n",
            "Epoch 91/100\n",
            "25/25 [==============================] - 0s 16ms/step - loss: 0.0053 - val_loss: 0.0057\n",
            "Epoch 92/100\n",
            "25/25 [==============================] - 0s 16ms/step - loss: 0.0053 - val_loss: 0.0058\n",
            "Epoch 93/100\n",
            "25/25 [==============================] - 0s 16ms/step - loss: 0.0052 - val_loss: 0.0057\n",
            "Epoch 94/100\n",
            "25/25 [==============================] - 0s 16ms/step - loss: 0.0052 - val_loss: 0.0057\n",
            "Epoch 95/100\n",
            "25/25 [==============================] - 0s 16ms/step - loss: 0.0053 - val_loss: 0.0057\n",
            "Epoch 96/100\n",
            "25/25 [==============================] - 0s 16ms/step - loss: 0.0052 - val_loss: 0.0057\n",
            "Epoch 97/100\n",
            "25/25 [==============================] - 0s 16ms/step - loss: 0.0053 - val_loss: 0.0057\n",
            "Epoch 98/100\n",
            "25/25 [==============================] - 0s 17ms/step - loss: 0.0052 - val_loss: 0.0057\n",
            "Epoch 99/100\n",
            "25/25 [==============================] - 0s 15ms/step - loss: 0.0053 - val_loss: 0.0057\n",
            "Epoch 100/100\n",
            "25/25 [==============================] - 0s 15ms/step - loss: 0.0053 - val_loss: 0.0057\n"
          ],
          "name": "stdout"
        },
        {
          "output_type": "execute_result",
          "data": {
            "text/plain": [
              "<tensorflow.python.keras.callbacks.History at 0x7f044041b2d0>"
            ]
          },
          "metadata": {
            "tags": []
          },
          "execution_count": 28
        }
      ]
    },
    {
      "cell_type": "code",
      "metadata": {
        "id": "0psCe40rlPeF"
      },
      "source": [
        "import tensorflow as tf"
      ],
      "execution_count": 29,
      "outputs": []
    },
    {
      "cell_type": "code",
      "metadata": {
        "id": "aZmaxRGrltON"
      },
      "source": [
        "train_predict = model.predict(X_train)\n",
        "test_predict = model.predict(X_test)"
      ],
      "execution_count": 30,
      "outputs": []
    },
    {
      "cell_type": "code",
      "metadata": {
        "id": "iLPBHaXimcvl"
      },
      "source": [
        "train_predict = scalar.inverse_transform(train_predict)\n",
        "test_predict = scalar.inverse_transform(test_predict)"
      ],
      "execution_count": 31,
      "outputs": []
    },
    {
      "cell_type": "code",
      "metadata": {
        "colab": {
          "base_uri": "https://localhost:8080/"
        },
        "id": "Rt1tV0Wlmpyq",
        "outputId": "bc36cc33-9b0f-4b9e-daba-99d68ae208d0"
      },
      "source": [
        "import math\n",
        "from sklearn.metrics import mean_squared_error\n",
        "math.sqrt(mean_squared_error(y_train,train_predict))"
      ],
      "execution_count": 32,
      "outputs": [
        {
          "output_type": "execute_result",
          "data": {
            "text/plain": [
              "182.60223728459442"
            ]
          },
          "metadata": {
            "tags": []
          },
          "execution_count": 32
        }
      ]
    },
    {
      "cell_type": "code",
      "metadata": {
        "colab": {
          "base_uri": "https://localhost:8080/"
        },
        "id": "gF-1Wgzam2C9",
        "outputId": "7720b13c-55f0-4ddd-bf31-2a43df0c8dcc"
      },
      "source": [
        "math.sqrt(mean_squared_error(y_test,test_predict))"
      ],
      "execution_count": 33,
      "outputs": [
        {
          "output_type": "execute_result",
          "data": {
            "text/plain": [
              "187.16762565991797"
            ]
          },
          "metadata": {
            "tags": []
          },
          "execution_count": 33
        }
      ]
    },
    {
      "cell_type": "code",
      "metadata": {
        "colab": {
          "base_uri": "https://localhost:8080/",
          "height": 265
        },
        "id": "dgPn5bR1nGiB",
        "outputId": "46477f02-d4dc-4203-c15a-19b06f8b53b4"
      },
      "source": [
        "### Plotting \n",
        "# shift train predictions for plotting\n",
        "look_back=100\n",
        "trainPredictPlot = numpy.empty_like(df1)\n",
        "trainPredictPlot[:, :] = np.nan\n",
        "trainPredictPlot[look_back:len(train_predict)+look_back, :] = train_predict\n",
        "# shift test predictions for plotting\n",
        "testPredictPlot = numpy.empty_like(df1)\n",
        "testPredictPlot[:, :] = numpy.nan\n",
        "testPredictPlot[len(train_predict)+(look_back*2)+1:len(df1)-1, :] = test_predict\n",
        "# plot baseline and predictions\n",
        "plt.plot(scalar.inverse_transform(df1))\n",
        "plt.plot(trainPredictPlot)\n",
        "plt.plot(testPredictPlot)\n",
        "plt.show()"
      ],
      "execution_count": 46,
      "outputs": [
        {
          "output_type": "display_data",
          "data": {
            "image/png": "[encoded data removed]",
            "text/plain": [
              "<Figure size 432x288 with 1 Axes>"
            ]
          },
          "metadata": {
            "tags": [],
            "needs_background": "light"
          }
        }
      ]
    },
    {
      "cell_type": "code",
      "metadata": {
        "colab": {
          "base_uri": "https://localhost:8080/"
        },
        "id": "aZVd2D_7nLs7",
        "outputId": "c4b3d82f-00e8-4a99-f46e-54909dd5b1b6"
      },
      "source": [
        "len(test_data)"
      ],
      "execution_count": 37,
      "outputs": [
        {
          "output_type": "execute_result",
          "data": {
            "text/plain": [
              "885"
            ]
          },
          "metadata": {
            "tags": []
          },
          "execution_count": 37
        }
      ]
    },
    {
      "cell_type": "code",
      "metadata": {
        "colab": {
          "base_uri": "https://localhost:8080/"
        },
        "id": "1sg1Y8KuoBiA",
        "outputId": "bdac5fb9-dd4c-4daf-ad2a-599967801c3e"
      },
      "source": [
        "x_input=test_data[785:].reshape(1,-1)\n",
        "x_input.shape"
      ],
      "execution_count": 38,
      "outputs": [
        {
          "output_type": "execute_result",
          "data": {
            "text/plain": [
              "(1, 100)"
            ]
          },
          "metadata": {
            "tags": []
          },
          "execution_count": 38
        }
      ]
    },
    {
      "cell_type": "code",
      "metadata": {
        "id": "_moBfDN2oIMw"
      },
      "source": [
        "temp_input=list(x_input)\n",
        "temp_input=temp_input[0].tolist()"
      ],
      "execution_count": 39,
      "outputs": []
    },
    {
      "cell_type": "code",
      "metadata": {
        "colab": {
          "base_uri": "https://localhost:8080/"
        },
        "id": "MJT90Qx1oMJo",
        "outputId": "3babf502-59e4-4c7b-d80d-1377bb2a3b05"
      },
      "source": [
        "temp_input"
      ],
      "execution_count": 40,
      "outputs": [
        {
          "output_type": "execute_result",
          "data": {
            "text/plain": [
              "[0.21880341880341878,\n",
              " 0.24102564102564103,\n",
              " 0.20512820512820515,\n",
              " 0.23076923076923075,\n",
              " 0.22051282051282053,\n",
              " 0.21196581196581196,\n",
              " 0.19999999999999998,\n",
              " 0.1675213675213675,\n",
              " 0.19829059829059828,\n",
              " 0.18632478632478633,\n",
              " 0.1794871794871795,\n",
              " 0.24273504273504273,\n",
              " 0.20683760683760685,\n",
              " 0.1692307692307692,\n",
              " 0.37606837606837606,\n",
              " 0.47863247863247865,\n",
              " 0.3948717948717949,\n",
              " 0.411965811965812,\n",
              " 0.6188034188034187,\n",
              " 0.7487179487179487,\n",
              " 0.5863247863247862,\n",
              " 0.5008547008547009,\n",
              " 0.47692307692307695,\n",
              " 0.6820512820512821,\n",
              " 0.6683760683760683,\n",
              " 0.36752136752136755,\n",
              " 0.4102564102564103,\n",
              " 0.4632478632478633,\n",
              " 0.523076923076923,\n",
              " 0.6273504273504273,\n",
              " 0.6786324786324786,\n",
              " 0.505982905982906,\n",
              " 0.29572649572649573,\n",
              " 0.34871794871794876,\n",
              " 0.1658119658119658,\n",
              " 0.1692307692307692,\n",
              " 0.17264957264957265,\n",
              " 0.17777777777777778,\n",
              " 0.35384615384615387,\n",
              " 0.2923076923076923,\n",
              " 0.3982905982905983,\n",
              " 0.47692307692307695,\n",
              " 0.452991452991453,\n",
              " 0.5247863247863247,\n",
              " 0.3931623931623932,\n",
              " 0.2923076923076923,\n",
              " 0.33162393162393167,\n",
              " 0.27179487179487183,\n",
              " 0.28205128205128205,\n",
              " 0.20512820512820515,\n",
              " 0.23076923076923075,\n",
              " 0.19658119658119658,\n",
              " 0.22222222222222224,\n",
              " 0.2837606837606838,\n",
              " 0.25811965811965815,\n",
              " 0.2905982905982906,\n",
              " 0.21025641025641026,\n",
              " 0.34700854700854705,\n",
              " 0.25470085470085474,\n",
              " 0.40512820512820513,\n",
              " 0.36410256410256414,\n",
              " 0.5555555555555555,\n",
              " 0.26324786324786326,\n",
              " 0.2700854700854701,\n",
              " 0.23247863247863246,\n",
              " 0.26153846153846155,\n",
              " 0.3196581196581197,\n",
              " 0.1675213675213675,\n",
              " 0.15213675213675212,\n",
              " 0.22051282051282053,\n",
              " 0.21025641025641026,\n",
              " 0.18974358974358974,\n",
              " 0.21196581196581196,\n",
              " 0.1829059829059829,\n",
              " 0.22222222222222224,\n",
              " 0.20512820512820515,\n",
              " 0.19999999999999998,\n",
              " 0.24444444444444444,\n",
              " 0.1299145299145299,\n",
              " 0.11282051282051281,\n",
              " 0.1299145299145299,\n",
              " 0.15555555555555556,\n",
              " 0.19999999999999998,\n",
              " 0.24273504273504273,\n",
              " 0.23589743589743586,\n",
              " 0.25982905982905985,\n",
              " 0.13846153846153844,\n",
              " 0.14529914529914528,\n",
              " 0.1829059829059829,\n",
              " 0.23418803418803416,\n",
              " 0.24102564102564103,\n",
              " 0.535042735042735,\n",
              " 0.13162393162393163,\n",
              " 0.22905982905982905,\n",
              " 0.23418803418803416,\n",
              " 0.20512820512820515,\n",
              " 0.22051282051282053,\n",
              " 0.2017094017094017,\n",
              " 0.14358974358974358,\n",
              " 0.1658119658119658]"
            ]
          },
          "metadata": {
            "tags": []
          },
          "execution_count": 40
        }
      ]
    },
    {
      "cell_type": "code",
      "metadata": {
        "colab": {
          "base_uri": "https://localhost:8080/"
        },
        "id": "v5KYfA5BoY2K",
        "outputId": "5994c85c-9142-4b0b-e844-bf187f717aa3"
      },
      "source": [
        "# prediction for the next 30 days\n",
        "from numpy import array\n",
        "\n",
        "lst_output=[]\n",
        "n_steps=100\n",
        "i=0\n",
        "while(i<30):\n",
        "    \n",
        "    if(len(temp_input)>100):\n",
        "        #print(temp_input)\n",
        "        x_input=np.array(temp_input[1:])\n",
        "        print(\"{} day input {}\".format(i,x_input))\n",
        "        x_input=x_input.reshape(1,-1)\n",
        "        x_input = x_input.reshape((1, n_steps, 1))\n",
        "        #print(x_input)\n",
        "        yhat = model.predict(x_input, verbose=0)\n",
        "        print(\"{} day output {}\".format(i,yhat))\n",
        "        temp_input.extend(yhat[0].tolist())\n",
        "        temp_input=temp_input[1:]\n",
        "        #print(temp_input)\n",
        "        lst_output.extend(yhat.tolist())\n",
        "        i=i+1\n",
        "    else:\n",
        "        x_input = x_input.reshape((1, n_steps,1))\n",
        "        yhat = model.predict(x_input, verbose=0)\n",
        "        print(yhat[0])\n",
        "        temp_input.extend(yhat[0].tolist())\n",
        "        print(len(temp_input))\n",
        "        lst_output.extend(yhat.tolist())\n",
        "        i=i+1\n",
        "    \n",
        "\n",
        "print(lst_output)"
      ],
      "execution_count": 41,
      "outputs": [
        {
          "output_type": "stream",
          "text": [
            "[0.17842461]\n",
            "101\n",
            "1 day input [0.24102564 0.20512821 0.23076923 0.22051282 0.21196581 0.2\n",
            " 0.16752137 0.1982906  0.18632479 0.17948718 0.24273504 0.20683761\n",
            " 0.16923077 0.37606838 0.47863248 0.39487179 0.41196581 0.61880342\n",
            " 0.74871795 0.58632479 0.5008547  0.47692308 0.68205128 0.66837607\n",
            " 0.36752137 0.41025641 0.46324786 0.52307692 0.62735043 0.67863248\n",
            " 0.50598291 0.2957265  0.34871795 0.16581197 0.16923077 0.17264957\n",
            " 0.17777778 0.35384615 0.29230769 0.3982906  0.47692308 0.45299145\n",
            " 0.52478632 0.39316239 0.29230769 0.33162393 0.27179487 0.28205128\n",
            " 0.20512821 0.23076923 0.1965812  0.22222222 0.28376068 0.25811966\n",
            " 0.29059829 0.21025641 0.34700855 0.25470085 0.40512821 0.36410256\n",
            " 0.55555556 0.26324786 0.27008547 0.23247863 0.26153846 0.31965812\n",
            " 0.16752137 0.15213675 0.22051282 0.21025641 0.18974359 0.21196581\n",
            " 0.18290598 0.22222222 0.20512821 0.2        0.24444444 0.12991453\n",
            " 0.11282051 0.12991453 0.15555556 0.2        0.24273504 0.23589744\n",
            " 0.25982906 0.13846154 0.14529915 0.18290598 0.23418803 0.24102564\n",
            " 0.53504274 0.13162393 0.22905983 0.23418803 0.20512821 0.22051282\n",
            " 0.2017094  0.14358974 0.16581197 0.17842461]\n",
            "1 day output [[0.18657234]]\n",
            "2 day input [0.20512821 0.23076923 0.22051282 0.21196581 0.2        0.16752137\n",
            " 0.1982906  0.18632479 0.17948718 0.24273504 0.20683761 0.16923077\n",
            " 0.37606838 0.47863248 0.39487179 0.41196581 0.61880342 0.74871795\n",
            " 0.58632479 0.5008547  0.47692308 0.68205128 0.66837607 0.36752137\n",
            " 0.41025641 0.46324786 0.52307692 0.62735043 0.67863248 0.50598291\n",
            " 0.2957265  0.34871795 0.16581197 0.16923077 0.17264957 0.17777778\n",
            " 0.35384615 0.29230769 0.3982906  0.47692308 0.45299145 0.52478632\n",
            " 0.39316239 0.29230769 0.33162393 0.27179487 0.28205128 0.20512821\n",
            " 0.23076923 0.1965812  0.22222222 0.28376068 0.25811966 0.29059829\n",
            " 0.21025641 0.34700855 0.25470085 0.40512821 0.36410256 0.55555556\n",
            " 0.26324786 0.27008547 0.23247863 0.26153846 0.31965812 0.16752137\n",
            " 0.15213675 0.22051282 0.21025641 0.18974359 0.21196581 0.18290598\n",
            " 0.22222222 0.20512821 0.2        0.24444444 0.12991453 0.11282051\n",
            " 0.12991453 0.15555556 0.2        0.24273504 0.23589744 0.25982906\n",
            " 0.13846154 0.14529915 0.18290598 0.23418803 0.24102564 0.53504274\n",
            " 0.13162393 0.22905983 0.23418803 0.20512821 0.22051282 0.2017094\n",
            " 0.14358974 0.16581197 0.17842461 0.18657234]\n",
            "2 day output [[0.19225694]]\n",
            "3 day input [0.23076923 0.22051282 0.21196581 0.2        0.16752137 0.1982906\n",
            " 0.18632479 0.17948718 0.24273504 0.20683761 0.16923077 0.37606838\n",
            " 0.47863248 0.39487179 0.41196581 0.61880342 0.74871795 0.58632479\n",
            " 0.5008547  0.47692308 0.68205128 0.66837607 0.36752137 0.41025641\n",
            " 0.46324786 0.52307692 0.62735043 0.67863248 0.50598291 0.2957265\n",
            " 0.34871795 0.16581197 0.16923077 0.17264957 0.17777778 0.35384615\n",
            " 0.29230769 0.3982906  0.47692308 0.45299145 0.52478632 0.39316239\n",
            " 0.29230769 0.33162393 0.27179487 0.28205128 0.20512821 0.23076923\n",
            " 0.1965812  0.22222222 0.28376068 0.25811966 0.29059829 0.21025641\n",
            " 0.34700855 0.25470085 0.40512821 0.36410256 0.55555556 0.26324786\n",
            " 0.27008547 0.23247863 0.26153846 0.31965812 0.16752137 0.15213675\n",
            " 0.22051282 0.21025641 0.18974359 0.21196581 0.18290598 0.22222222\n",
            " 0.20512821 0.2        0.24444444 0.12991453 0.11282051 0.12991453\n",
            " 0.15555556 0.2        0.24273504 0.23589744 0.25982906 0.13846154\n",
            " 0.14529915 0.18290598 0.23418803 0.24102564 0.53504274 0.13162393\n",
            " 0.22905983 0.23418803 0.20512821 0.22051282 0.2017094  0.14358974\n",
            " 0.16581197 0.17842461 0.18657234 0.19225694]\n",
            "3 day output [[0.19610427]]\n",
            "4 day input [0.22051282 0.21196581 0.2        0.16752137 0.1982906  0.18632479\n",
            " 0.17948718 0.24273504 0.20683761 0.16923077 0.37606838 0.47863248\n",
            " 0.39487179 0.41196581 0.61880342 0.74871795 0.58632479 0.5008547\n",
            " 0.47692308 0.68205128 0.66837607 0.36752137 0.41025641 0.46324786\n",
            " 0.52307692 0.62735043 0.67863248 0.50598291 0.2957265  0.34871795\n",
            " 0.16581197 0.16923077 0.17264957 0.17777778 0.35384615 0.29230769\n",
            " 0.3982906  0.47692308 0.45299145 0.52478632 0.39316239 0.29230769\n",
            " 0.33162393 0.27179487 0.28205128 0.20512821 0.23076923 0.1965812\n",
            " 0.22222222 0.28376068 0.25811966 0.29059829 0.21025641 0.34700855\n",
            " 0.25470085 0.40512821 0.36410256 0.55555556 0.26324786 0.27008547\n",
            " 0.23247863 0.26153846 0.31965812 0.16752137 0.15213675 0.22051282\n",
            " 0.21025641 0.18974359 0.21196581 0.18290598 0.22222222 0.20512821\n",
            " 0.2        0.24444444 0.12991453 0.11282051 0.12991453 0.15555556\n",
            " 0.2        0.24273504 0.23589744 0.25982906 0.13846154 0.14529915\n",
            " 0.18290598 0.23418803 0.24102564 0.53504274 0.13162393 0.22905983\n",
            " 0.23418803 0.20512821 0.22051282 0.2017094  0.14358974 0.16581197\n",
            " 0.17842461 0.18657234 0.19225694 0.19610427]\n",
            "4 day output [[0.19888808]]\n",
            "5 day input [0.21196581 0.2        0.16752137 0.1982906  0.18632479 0.17948718\n",
            " 0.24273504 0.20683761 0.16923077 0.37606838 0.47863248 0.39487179\n",
            " 0.41196581 0.61880342 0.74871795 0.58632479 0.5008547  0.47692308\n",
            " 0.68205128 0.66837607 0.36752137 0.41025641 0.46324786 0.52307692\n",
            " 0.62735043 0.67863248 0.50598291 0.2957265  0.34871795 0.16581197\n",
            " 0.16923077 0.17264957 0.17777778 0.35384615 0.29230769 0.3982906\n",
            " 0.47692308 0.45299145 0.52478632 0.39316239 0.29230769 0.33162393\n",
            " 0.27179487 0.28205128 0.20512821 0.23076923 0.1965812  0.22222222\n",
            " 0.28376068 0.25811966 0.29059829 0.21025641 0.34700855 0.25470085\n",
            " 0.40512821 0.36410256 0.55555556 0.26324786 0.27008547 0.23247863\n",
            " 0.26153846 0.31965812 0.16752137 0.15213675 0.22051282 0.21025641\n",
            " 0.18974359 0.21196581 0.18290598 0.22222222 0.20512821 0.2\n",
            " 0.24444444 0.12991453 0.11282051 0.12991453 0.15555556 0.2\n",
            " 0.24273504 0.23589744 0.25982906 0.13846154 0.14529915 0.18290598\n",
            " 0.23418803 0.24102564 0.53504274 0.13162393 0.22905983 0.23418803\n",
            " 0.20512821 0.22051282 0.2017094  0.14358974 0.16581197 0.17842461\n",
            " 0.18657234 0.19225694 0.19610427 0.19888808]\n",
            "5 day output [[0.2010468]]\n",
            "6 day input [0.2        0.16752137 0.1982906  0.18632479 0.17948718 0.24273504\n",
            " 0.20683761 0.16923077 0.37606838 0.47863248 0.39487179 0.41196581\n",
            " 0.61880342 0.74871795 0.58632479 0.5008547  0.47692308 0.68205128\n",
            " 0.66837607 0.36752137 0.41025641 0.46324786 0.52307692 0.62735043\n",
            " 0.67863248 0.50598291 0.2957265  0.34871795 0.16581197 0.16923077\n",
            " 0.17264957 0.17777778 0.35384615 0.29230769 0.3982906  0.47692308\n",
            " 0.45299145 0.52478632 0.39316239 0.29230769 0.33162393 0.27179487\n",
            " 0.28205128 0.20512821 0.23076923 0.1965812  0.22222222 0.28376068\n",
            " 0.25811966 0.29059829 0.21025641 0.34700855 0.25470085 0.40512821\n",
            " 0.36410256 0.55555556 0.26324786 0.27008547 0.23247863 0.26153846\n",
            " 0.31965812 0.16752137 0.15213675 0.22051282 0.21025641 0.18974359\n",
            " 0.21196581 0.18290598 0.22222222 0.20512821 0.2        0.24444444\n",
            " 0.12991453 0.11282051 0.12991453 0.15555556 0.2        0.24273504\n",
            " 0.23589744 0.25982906 0.13846154 0.14529915 0.18290598 0.23418803\n",
            " 0.24102564 0.53504274 0.13162393 0.22905983 0.23418803 0.20512821\n",
            " 0.22051282 0.2017094  0.14358974 0.16581197 0.17842461 0.18657234\n",
            " 0.19225694 0.19610427 0.19888808 0.20104679]\n",
            "6 day output [[0.20277843]]\n",
            "7 day input [0.16752137 0.1982906  0.18632479 0.17948718 0.24273504 0.20683761\n",
            " 0.16923077 0.37606838 0.47863248 0.39487179 0.41196581 0.61880342\n",
            " 0.74871795 0.58632479 0.5008547  0.47692308 0.68205128 0.66837607\n",
            " 0.36752137 0.41025641 0.46324786 0.52307692 0.62735043 0.67863248\n",
            " 0.50598291 0.2957265  0.34871795 0.16581197 0.16923077 0.17264957\n",
            " 0.17777778 0.35384615 0.29230769 0.3982906  0.47692308 0.45299145\n",
            " 0.52478632 0.39316239 0.29230769 0.33162393 0.27179487 0.28205128\n",
            " 0.20512821 0.23076923 0.1965812  0.22222222 0.28376068 0.25811966\n",
            " 0.29059829 0.21025641 0.34700855 0.25470085 0.40512821 0.36410256\n",
            " 0.55555556 0.26324786 0.27008547 0.23247863 0.26153846 0.31965812\n",
            " 0.16752137 0.15213675 0.22051282 0.21025641 0.18974359 0.21196581\n",
            " 0.18290598 0.22222222 0.20512821 0.2        0.24444444 0.12991453\n",
            " 0.11282051 0.12991453 0.15555556 0.2        0.24273504 0.23589744\n",
            " 0.25982906 0.13846154 0.14529915 0.18290598 0.23418803 0.24102564\n",
            " 0.53504274 0.13162393 0.22905983 0.23418803 0.20512821 0.22051282\n",
            " 0.2017094  0.14358974 0.16581197 0.17842461 0.18657234 0.19225694\n",
            " 0.19610427 0.19888808 0.20104679 0.20277843]\n",
            "7 day output [[0.2041629]]\n",
            "8 day input [0.1982906  0.18632479 0.17948718 0.24273504 0.20683761 0.16923077\n",
            " 0.37606838 0.47863248 0.39487179 0.41196581 0.61880342 0.74871795\n",
            " 0.58632479 0.5008547  0.47692308 0.68205128 0.66837607 0.36752137\n",
            " 0.41025641 0.46324786 0.52307692 0.62735043 0.67863248 0.50598291\n",
            " 0.2957265  0.34871795 0.16581197 0.16923077 0.17264957 0.17777778\n",
            " 0.35384615 0.29230769 0.3982906  0.47692308 0.45299145 0.52478632\n",
            " 0.39316239 0.29230769 0.33162393 0.27179487 0.28205128 0.20512821\n",
            " 0.23076923 0.1965812  0.22222222 0.28376068 0.25811966 0.29059829\n",
            " 0.21025641 0.34700855 0.25470085 0.40512821 0.36410256 0.55555556\n",
            " 0.26324786 0.27008547 0.23247863 0.26153846 0.31965812 0.16752137\n",
            " 0.15213675 0.22051282 0.21025641 0.18974359 0.21196581 0.18290598\n",
            " 0.22222222 0.20512821 0.2        0.24444444 0.12991453 0.11282051\n",
            " 0.12991453 0.15555556 0.2        0.24273504 0.23589744 0.25982906\n",
            " 0.13846154 0.14529915 0.18290598 0.23418803 0.24102564 0.53504274\n",
            " 0.13162393 0.22905983 0.23418803 0.20512821 0.22051282 0.2017094\n",
            " 0.14358974 0.16581197 0.17842461 0.18657234 0.19225694 0.19610427\n",
            " 0.19888808 0.20104679 0.20277843 0.2041629 ]\n",
            "8 day output [[0.20524605]]\n",
            "9 day input [0.18632479 0.17948718 0.24273504 0.20683761 0.16923077 0.37606838\n",
            " 0.47863248 0.39487179 0.41196581 0.61880342 0.74871795 0.58632479\n",
            " 0.5008547  0.47692308 0.68205128 0.66837607 0.36752137 0.41025641\n",
            " 0.46324786 0.52307692 0.62735043 0.67863248 0.50598291 0.2957265\n",
            " 0.34871795 0.16581197 0.16923077 0.17264957 0.17777778 0.35384615\n",
            " 0.29230769 0.3982906  0.47692308 0.45299145 0.52478632 0.39316239\n",
            " 0.29230769 0.33162393 0.27179487 0.28205128 0.20512821 0.23076923\n",
            " 0.1965812  0.22222222 0.28376068 0.25811966 0.29059829 0.21025641\n",
            " 0.34700855 0.25470085 0.40512821 0.36410256 0.55555556 0.26324786\n",
            " 0.27008547 0.23247863 0.26153846 0.31965812 0.16752137 0.15213675\n",
            " 0.22051282 0.21025641 0.18974359 0.21196581 0.18290598 0.22222222\n",
            " 0.20512821 0.2        0.24444444 0.12991453 0.11282051 0.12991453\n",
            " 0.15555556 0.2        0.24273504 0.23589744 0.25982906 0.13846154\n",
            " 0.14529915 0.18290598 0.23418803 0.24102564 0.53504274 0.13162393\n",
            " 0.22905983 0.23418803 0.20512821 0.22051282 0.2017094  0.14358974\n",
            " 0.16581197 0.17842461 0.18657234 0.19225694 0.19610427 0.19888808\n",
            " 0.20104679 0.20277843 0.2041629  0.20524605]\n",
            "9 day output [[0.2060848]]\n",
            "10 day input [0.17948718 0.24273504 0.20683761 0.16923077 0.37606838 0.47863248\n",
            " 0.39487179 0.41196581 0.61880342 0.74871795 0.58632479 0.5008547\n",
            " 0.47692308 0.68205128 0.66837607 0.36752137 0.41025641 0.46324786\n",
            " 0.52307692 0.62735043 0.67863248 0.50598291 0.2957265  0.34871795\n",
            " 0.16581197 0.16923077 0.17264957 0.17777778 0.35384615 0.29230769\n",
            " 0.3982906  0.47692308 0.45299145 0.52478632 0.39316239 0.29230769\n",
            " 0.33162393 0.27179487 0.28205128 0.20512821 0.23076923 0.1965812\n",
            " 0.22222222 0.28376068 0.25811966 0.29059829 0.21025641 0.34700855\n",
            " 0.25470085 0.40512821 0.36410256 0.55555556 0.26324786 0.27008547\n",
            " 0.23247863 0.26153846 0.31965812 0.16752137 0.15213675 0.22051282\n",
            " 0.21025641 0.18974359 0.21196581 0.18290598 0.22222222 0.20512821\n",
            " 0.2        0.24444444 0.12991453 0.11282051 0.12991453 0.15555556\n",
            " 0.2        0.24273504 0.23589744 0.25982906 0.13846154 0.14529915\n",
            " 0.18290598 0.23418803 0.24102564 0.53504274 0.13162393 0.22905983\n",
            " 0.23418803 0.20512821 0.22051282 0.2017094  0.14358974 0.16581197\n",
            " 0.17842461 0.18657234 0.19225694 0.19610427 0.19888808 0.20104679\n",
            " 0.20277843 0.2041629  0.20524605 0.2060848 ]\n",
            "10 day output [[0.20674242]]\n",
            "11 day input [0.24273504 0.20683761 0.16923077 0.37606838 0.47863248 0.39487179\n",
            " 0.41196581 0.61880342 0.74871795 0.58632479 0.5008547  0.47692308\n",
            " 0.68205128 0.66837607 0.36752137 0.41025641 0.46324786 0.52307692\n",
            " 0.62735043 0.67863248 0.50598291 0.2957265  0.34871795 0.16581197\n",
            " 0.16923077 0.17264957 0.17777778 0.35384615 0.29230769 0.3982906\n",
            " 0.47692308 0.45299145 0.52478632 0.39316239 0.29230769 0.33162393\n",
            " 0.27179487 0.28205128 0.20512821 0.23076923 0.1965812  0.22222222\n",
            " 0.28376068 0.25811966 0.29059829 0.21025641 0.34700855 0.25470085\n",
            " 0.40512821 0.36410256 0.55555556 0.26324786 0.27008547 0.23247863\n",
            " 0.26153846 0.31965812 0.16752137 0.15213675 0.22051282 0.21025641\n",
            " 0.18974359 0.21196581 0.18290598 0.22222222 0.20512821 0.2\n",
            " 0.24444444 0.12991453 0.11282051 0.12991453 0.15555556 0.2\n",
            " 0.24273504 0.23589744 0.25982906 0.13846154 0.14529915 0.18290598\n",
            " 0.23418803 0.24102564 0.53504274 0.13162393 0.22905983 0.23418803\n",
            " 0.20512821 0.22051282 0.2017094  0.14358974 0.16581197 0.17842461\n",
            " 0.18657234 0.19225694 0.19610427 0.19888808 0.20104679 0.20277843\n",
            " 0.2041629  0.20524605 0.2060848  0.20674242]\n",
            "11 day output [[0.20729007]]\n",
            "12 day input [0.20683761 0.16923077 0.37606838 0.47863248 0.39487179 0.41196581\n",
            " 0.61880342 0.74871795 0.58632479 0.5008547  0.47692308 0.68205128\n",
            " 0.66837607 0.36752137 0.41025641 0.46324786 0.52307692 0.62735043\n",
            " 0.67863248 0.50598291 0.2957265  0.34871795 0.16581197 0.16923077\n",
            " 0.17264957 0.17777778 0.35384615 0.29230769 0.3982906  0.47692308\n",
            " 0.45299145 0.52478632 0.39316239 0.29230769 0.33162393 0.27179487\n",
            " 0.28205128 0.20512821 0.23076923 0.1965812  0.22222222 0.28376068\n",
            " 0.25811966 0.29059829 0.21025641 0.34700855 0.25470085 0.40512821\n",
            " 0.36410256 0.55555556 0.26324786 0.27008547 0.23247863 0.26153846\n",
            " 0.31965812 0.16752137 0.15213675 0.22051282 0.21025641 0.18974359\n",
            " 0.21196581 0.18290598 0.22222222 0.20512821 0.2        0.24444444\n",
            " 0.12991453 0.11282051 0.12991453 0.15555556 0.2        0.24273504\n",
            " 0.23589744 0.25982906 0.13846154 0.14529915 0.18290598 0.23418803\n",
            " 0.24102564 0.53504274 0.13162393 0.22905983 0.23418803 0.20512821\n",
            " 0.22051282 0.2017094  0.14358974 0.16581197 0.17842461 0.18657234\n",
            " 0.19225694 0.19610427 0.19888808 0.20104679 0.20277843 0.2041629\n",
            " 0.20524605 0.2060848  0.20674242 0.20729007]\n",
            "12 day output [[0.20780121]]\n",
            "13 day input [0.16923077 0.37606838 0.47863248 0.39487179 0.41196581 0.61880342\n",
            " 0.74871795 0.58632479 0.5008547  0.47692308 0.68205128 0.66837607\n",
            " 0.36752137 0.41025641 0.46324786 0.52307692 0.62735043 0.67863248\n",
            " 0.50598291 0.2957265  0.34871795 0.16581197 0.16923077 0.17264957\n",
            " 0.17777778 0.35384615 0.29230769 0.3982906  0.47692308 0.45299145\n",
            " 0.52478632 0.39316239 0.29230769 0.33162393 0.27179487 0.28205128\n",
            " 0.20512821 0.23076923 0.1965812  0.22222222 0.28376068 0.25811966\n",
            " 0.29059829 0.21025641 0.34700855 0.25470085 0.40512821 0.36410256\n",
            " 0.55555556 0.26324786 0.27008547 0.23247863 0.26153846 0.31965812\n",
            " 0.16752137 0.15213675 0.22051282 0.21025641 0.18974359 0.21196581\n",
            " 0.18290598 0.22222222 0.20512821 0.2        0.24444444 0.12991453\n",
            " 0.11282051 0.12991453 0.15555556 0.2        0.24273504 0.23589744\n",
            " 0.25982906 0.13846154 0.14529915 0.18290598 0.23418803 0.24102564\n",
            " 0.53504274 0.13162393 0.22905983 0.23418803 0.20512821 0.22051282\n",
            " 0.2017094  0.14358974 0.16581197 0.17842461 0.18657234 0.19225694\n",
            " 0.19610427 0.19888808 0.20104679 0.20277843 0.2041629  0.20524605\n",
            " 0.2060848  0.20674242 0.20729007 0.20780121]\n",
            "13 day output [[0.20832911]]\n",
            "14 day input [0.37606838 0.47863248 0.39487179 0.41196581 0.61880342 0.74871795\n",
            " 0.58632479 0.5008547  0.47692308 0.68205128 0.66837607 0.36752137\n",
            " 0.41025641 0.46324786 0.52307692 0.62735043 0.67863248 0.50598291\n",
            " 0.2957265  0.34871795 0.16581197 0.16923077 0.17264957 0.17777778\n",
            " 0.35384615 0.29230769 0.3982906  0.47692308 0.45299145 0.52478632\n",
            " 0.39316239 0.29230769 0.33162393 0.27179487 0.28205128 0.20512821\n",
            " 0.23076923 0.1965812  0.22222222 0.28376068 0.25811966 0.29059829\n",
            " 0.21025641 0.34700855 0.25470085 0.40512821 0.36410256 0.55555556\n",
            " 0.26324786 0.27008547 0.23247863 0.26153846 0.31965812 0.16752137\n",
            " 0.15213675 0.22051282 0.21025641 0.18974359 0.21196581 0.18290598\n",
            " 0.22222222 0.20512821 0.2        0.24444444 0.12991453 0.11282051\n",
            " 0.12991453 0.15555556 0.2        0.24273504 0.23589744 0.25982906\n",
            " 0.13846154 0.14529915 0.18290598 0.23418803 0.24102564 0.53504274\n",
            " 0.13162393 0.22905983 0.23418803 0.20512821 0.22051282 0.2017094\n",
            " 0.14358974 0.16581197 0.17842461 0.18657234 0.19225694 0.19610427\n",
            " 0.19888808 0.20104679 0.20277843 0.2041629  0.20524605 0.2060848\n",
            " 0.20674242 0.20729007 0.20780121 0.20832911]\n",
            "14 day output [[0.20891775]]\n",
            "15 day input [0.47863248 0.39487179 0.41196581 0.61880342 0.74871795 0.58632479\n",
            " 0.5008547  0.47692308 0.68205128 0.66837607 0.36752137 0.41025641\n",
            " 0.46324786 0.52307692 0.62735043 0.67863248 0.50598291 0.2957265\n",
            " 0.34871795 0.16581197 0.16923077 0.17264957 0.17777778 0.35384615\n",
            " 0.29230769 0.3982906  0.47692308 0.45299145 0.52478632 0.39316239\n",
            " 0.29230769 0.33162393 0.27179487 0.28205128 0.20512821 0.23076923\n",
            " 0.1965812  0.22222222 0.28376068 0.25811966 0.29059829 0.21025641\n",
            " 0.34700855 0.25470085 0.40512821 0.36410256 0.55555556 0.26324786\n",
            " 0.27008547 0.23247863 0.26153846 0.31965812 0.16752137 0.15213675\n",
            " 0.22051282 0.21025641 0.18974359 0.21196581 0.18290598 0.22222222\n",
            " 0.20512821 0.2        0.24444444 0.12991453 0.11282051 0.12991453\n",
            " 0.15555556 0.2        0.24273504 0.23589744 0.25982906 0.13846154\n",
            " 0.14529915 0.18290598 0.23418803 0.24102564 0.53504274 0.13162393\n",
            " 0.22905983 0.23418803 0.20512821 0.22051282 0.2017094  0.14358974\n",
            " 0.16581197 0.17842461 0.18657234 0.19225694 0.19610427 0.19888808\n",
            " 0.20104679 0.20277843 0.2041629  0.20524605 0.2060848  0.20674242\n",
            " 0.20729007 0.20780121 0.20832911 0.20891775]\n",
            "15 day output [[0.20961691]]\n",
            "16 day input [0.39487179 0.41196581 0.61880342 0.74871795 0.58632479 0.5008547\n",
            " 0.47692308 0.68205128 0.66837607 0.36752137 0.41025641 0.46324786\n",
            " 0.52307692 0.62735043 0.67863248 0.50598291 0.2957265  0.34871795\n",
            " 0.16581197 0.16923077 0.17264957 0.17777778 0.35384615 0.29230769\n",
            " 0.3982906  0.47692308 0.45299145 0.52478632 0.39316239 0.29230769\n",
            " 0.33162393 0.27179487 0.28205128 0.20512821 0.23076923 0.1965812\n",
            " 0.22222222 0.28376068 0.25811966 0.29059829 0.21025641 0.34700855\n",
            " 0.25470085 0.40512821 0.36410256 0.55555556 0.26324786 0.27008547\n",
            " 0.23247863 0.26153846 0.31965812 0.16752137 0.15213675 0.22051282\n",
            " 0.21025641 0.18974359 0.21196581 0.18290598 0.22222222 0.20512821\n",
            " 0.2        0.24444444 0.12991453 0.11282051 0.12991453 0.15555556\n",
            " 0.2        0.24273504 0.23589744 0.25982906 0.13846154 0.14529915\n",
            " 0.18290598 0.23418803 0.24102564 0.53504274 0.13162393 0.22905983\n",
            " 0.23418803 0.20512821 0.22051282 0.2017094  0.14358974 0.16581197\n",
            " 0.17842461 0.18657234 0.19225694 0.19610427 0.19888808 0.20104679\n",
            " 0.20277843 0.2041629  0.20524605 0.2060848  0.20674242 0.20729007\n",
            " 0.20780121 0.20832911 0.20891775 0.20961691]\n",
            "16 day output [[0.21044412]]\n",
            "17 day input [0.41196581 0.61880342 0.74871795 0.58632479 0.5008547  0.47692308\n",
            " 0.68205128 0.66837607 0.36752137 0.41025641 0.46324786 0.52307692\n",
            " 0.62735043 0.67863248 0.50598291 0.2957265  0.34871795 0.16581197\n",
            " 0.16923077 0.17264957 0.17777778 0.35384615 0.29230769 0.3982906\n",
            " 0.47692308 0.45299145 0.52478632 0.39316239 0.29230769 0.33162393\n",
            " 0.27179487 0.28205128 0.20512821 0.23076923 0.1965812  0.22222222\n",
            " 0.28376068 0.25811966 0.29059829 0.21025641 0.34700855 0.25470085\n",
            " 0.40512821 0.36410256 0.55555556 0.26324786 0.27008547 0.23247863\n",
            " 0.26153846 0.31965812 0.16752137 0.15213675 0.22051282 0.21025641\n",
            " 0.18974359 0.21196581 0.18290598 0.22222222 0.20512821 0.2\n",
            " 0.24444444 0.12991453 0.11282051 0.12991453 0.15555556 0.2\n",
            " 0.24273504 0.23589744 0.25982906 0.13846154 0.14529915 0.18290598\n",
            " 0.23418803 0.24102564 0.53504274 0.13162393 0.22905983 0.23418803\n",
            " 0.20512821 0.22051282 0.2017094  0.14358974 0.16581197 0.17842461\n",
            " 0.18657234 0.19225694 0.19610427 0.19888808 0.20104679 0.20277843\n",
            " 0.2041629  0.20524605 0.2060848  0.20674242 0.20729007 0.20780121\n",
            " 0.20832911 0.20891775 0.20961691 0.21044412]\n",
            "17 day output [[0.21139424]]\n",
            "18 day input [0.61880342 0.74871795 0.58632479 0.5008547  0.47692308 0.68205128\n",
            " 0.66837607 0.36752137 0.41025641 0.46324786 0.52307692 0.62735043\n",
            " 0.67863248 0.50598291 0.2957265  0.34871795 0.16581197 0.16923077\n",
            " 0.17264957 0.17777778 0.35384615 0.29230769 0.3982906  0.47692308\n",
            " 0.45299145 0.52478632 0.39316239 0.29230769 0.33162393 0.27179487\n",
            " 0.28205128 0.20512821 0.23076923 0.1965812  0.22222222 0.28376068\n",
            " 0.25811966 0.29059829 0.21025641 0.34700855 0.25470085 0.40512821\n",
            " 0.36410256 0.55555556 0.26324786 0.27008547 0.23247863 0.26153846\n",
            " 0.31965812 0.16752137 0.15213675 0.22051282 0.21025641 0.18974359\n",
            " 0.21196581 0.18290598 0.22222222 0.20512821 0.2        0.24444444\n",
            " 0.12991453 0.11282051 0.12991453 0.15555556 0.2        0.24273504\n",
            " 0.23589744 0.25982906 0.13846154 0.14529915 0.18290598 0.23418803\n",
            " 0.24102564 0.53504274 0.13162393 0.22905983 0.23418803 0.20512821\n",
            " 0.22051282 0.2017094  0.14358974 0.16581197 0.17842461 0.18657234\n",
            " 0.19225694 0.19610427 0.19888808 0.20104679 0.20277843 0.2041629\n",
            " 0.20524605 0.2060848  0.20674242 0.20729007 0.20780121 0.20832911\n",
            " 0.20891775 0.20961691 0.21044412 0.21139424]\n",
            "18 day output [[0.21246965]]\n",
            "19 day input [0.74871795 0.58632479 0.5008547  0.47692308 0.68205128 0.66837607\n",
            " 0.36752137 0.41025641 0.46324786 0.52307692 0.62735043 0.67863248\n",
            " 0.50598291 0.2957265  0.34871795 0.16581197 0.16923077 0.17264957\n",
            " 0.17777778 0.35384615 0.29230769 0.3982906  0.47692308 0.45299145\n",
            " 0.52478632 0.39316239 0.29230769 0.33162393 0.27179487 0.28205128\n",
            " 0.20512821 0.23076923 0.1965812  0.22222222 0.28376068 0.25811966\n",
            " 0.29059829 0.21025641 0.34700855 0.25470085 0.40512821 0.36410256\n",
            " 0.55555556 0.26324786 0.27008547 0.23247863 0.26153846 0.31965812\n",
            " 0.16752137 0.15213675 0.22051282 0.21025641 0.18974359 0.21196581\n",
            " 0.18290598 0.22222222 0.20512821 0.2        0.24444444 0.12991453\n",
            " 0.11282051 0.12991453 0.15555556 0.2        0.24273504 0.23589744\n",
            " 0.25982906 0.13846154 0.14529915 0.18290598 0.23418803 0.24102564\n",
            " 0.53504274 0.13162393 0.22905983 0.23418803 0.20512821 0.22051282\n",
            " 0.2017094  0.14358974 0.16581197 0.17842461 0.18657234 0.19225694\n",
            " 0.19610427 0.19888808 0.20104679 0.20277843 0.2041629  0.20524605\n",
            " 0.2060848  0.20674242 0.20729007 0.20780121 0.20832911 0.20891775\n",
            " 0.20961691 0.21044412 0.21139424 0.21246965]\n",
            "19 day output [[0.213678]]\n",
            "20 day input [0.58632479 0.5008547  0.47692308 0.68205128 0.66837607 0.36752137\n",
            " 0.41025641 0.46324786 0.52307692 0.62735043 0.67863248 0.50598291\n",
            " 0.2957265  0.34871795 0.16581197 0.16923077 0.17264957 0.17777778\n",
            " 0.35384615 0.29230769 0.3982906  0.47692308 0.45299145 0.52478632\n",
            " 0.39316239 0.29230769 0.33162393 0.27179487 0.28205128 0.20512821\n",
            " 0.23076923 0.1965812  0.22222222 0.28376068 0.25811966 0.29059829\n",
            " 0.21025641 0.34700855 0.25470085 0.40512821 0.36410256 0.55555556\n",
            " 0.26324786 0.27008547 0.23247863 0.26153846 0.31965812 0.16752137\n",
            " 0.15213675 0.22051282 0.21025641 0.18974359 0.21196581 0.18290598\n",
            " 0.22222222 0.20512821 0.2        0.24444444 0.12991453 0.11282051\n",
            " 0.12991453 0.15555556 0.2        0.24273504 0.23589744 0.25982906\n",
            " 0.13846154 0.14529915 0.18290598 0.23418803 0.24102564 0.53504274\n",
            " 0.13162393 0.22905983 0.23418803 0.20512821 0.22051282 0.2017094\n",
            " 0.14358974 0.16581197 0.17842461 0.18657234 0.19225694 0.19610427\n",
            " 0.19888808 0.20104679 0.20277843 0.2041629  0.20524605 0.2060848\n",
            " 0.20674242 0.20729007 0.20780121 0.20832911 0.20891775 0.20961691\n",
            " 0.21044412 0.21139424 0.21246965 0.213678  ]\n",
            "20 day output [[0.21500677]]\n",
            "21 day input [0.5008547  0.47692308 0.68205128 0.66837607 0.36752137 0.41025641\n",
            " 0.46324786 0.52307692 0.62735043 0.67863248 0.50598291 0.2957265\n",
            " 0.34871795 0.16581197 0.16923077 0.17264957 0.17777778 0.35384615\n",
            " 0.29230769 0.3982906  0.47692308 0.45299145 0.52478632 0.39316239\n",
            " 0.29230769 0.33162393 0.27179487 0.28205128 0.20512821 0.23076923\n",
            " 0.1965812  0.22222222 0.28376068 0.25811966 0.29059829 0.21025641\n",
            " 0.34700855 0.25470085 0.40512821 0.36410256 0.55555556 0.26324786\n",
            " 0.27008547 0.23247863 0.26153846 0.31965812 0.16752137 0.15213675\n",
            " 0.22051282 0.21025641 0.18974359 0.21196581 0.18290598 0.22222222\n",
            " 0.20512821 0.2        0.24444444 0.12991453 0.11282051 0.12991453\n",
            " 0.15555556 0.2        0.24273504 0.23589744 0.25982906 0.13846154\n",
            " 0.14529915 0.18290598 0.23418803 0.24102564 0.53504274 0.13162393\n",
            " 0.22905983 0.23418803 0.20512821 0.22051282 0.2017094  0.14358974\n",
            " 0.16581197 0.17842461 0.18657234 0.19225694 0.19610427 0.19888808\n",
            " 0.20104679 0.20277843 0.2041629  0.20524605 0.2060848  0.20674242\n",
            " 0.20729007 0.20780121 0.20832911 0.20891775 0.20961691 0.21044412\n",
            " 0.21139424 0.21246965 0.213678   0.21500677]\n",
            "21 day output [[0.21642254]]\n",
            "22 day input [0.47692308 0.68205128 0.66837607 0.36752137 0.41025641 0.46324786\n",
            " 0.52307692 0.62735043 0.67863248 0.50598291 0.2957265  0.34871795\n",
            " 0.16581197 0.16923077 0.17264957 0.17777778 0.35384615 0.29230769\n",
            " 0.3982906  0.47692308 0.45299145 0.52478632 0.39316239 0.29230769\n",
            " 0.33162393 0.27179487 0.28205128 0.20512821 0.23076923 0.1965812\n",
            " 0.22222222 0.28376068 0.25811966 0.29059829 0.21025641 0.34700855\n",
            " 0.25470085 0.40512821 0.36410256 0.55555556 0.26324786 0.27008547\n",
            " 0.23247863 0.26153846 0.31965812 0.16752137 0.15213675 0.22051282\n",
            " 0.21025641 0.18974359 0.21196581 0.18290598 0.22222222 0.20512821\n",
            " 0.2        0.24444444 0.12991453 0.11282051 0.12991453 0.15555556\n",
            " 0.2        0.24273504 0.23589744 0.25982906 0.13846154 0.14529915\n",
            " 0.18290598 0.23418803 0.24102564 0.53504274 0.13162393 0.22905983\n",
            " 0.23418803 0.20512821 0.22051282 0.2017094  0.14358974 0.16581197\n",
            " 0.17842461 0.18657234 0.19225694 0.19610427 0.19888808 0.20104679\n",
            " 0.20277843 0.2041629  0.20524605 0.2060848  0.20674242 0.20729007\n",
            " 0.20780121 0.20832911 0.20891775 0.20961691 0.21044412 0.21139424\n",
            " 0.21246965 0.213678   0.21500677 0.21642254]\n",
            "22 day output [[0.21790999]]\n",
            "23 day input [0.68205128 0.66837607 0.36752137 0.41025641 0.46324786 0.52307692\n",
            " 0.62735043 0.67863248 0.50598291 0.2957265  0.34871795 0.16581197\n",
            " 0.16923077 0.17264957 0.17777778 0.35384615 0.29230769 0.3982906\n",
            " 0.47692308 0.45299145 0.52478632 0.39316239 0.29230769 0.33162393\n",
            " 0.27179487 0.28205128 0.20512821 0.23076923 0.1965812  0.22222222\n",
            " 0.28376068 0.25811966 0.29059829 0.21025641 0.34700855 0.25470085\n",
            " 0.40512821 0.36410256 0.55555556 0.26324786 0.27008547 0.23247863\n",
            " 0.26153846 0.31965812 0.16752137 0.15213675 0.22051282 0.21025641\n",
            " 0.18974359 0.21196581 0.18290598 0.22222222 0.20512821 0.2\n",
            " 0.24444444 0.12991453 0.11282051 0.12991453 0.15555556 0.2\n",
            " 0.24273504 0.23589744 0.25982906 0.13846154 0.14529915 0.18290598\n",
            " 0.23418803 0.24102564 0.53504274 0.13162393 0.22905983 0.23418803\n",
            " 0.20512821 0.22051282 0.2017094  0.14358974 0.16581197 0.17842461\n",
            " 0.18657234 0.19225694 0.19610427 0.19888808 0.20104679 0.20277843\n",
            " 0.2041629  0.20524605 0.2060848  0.20674242 0.20729007 0.20780121\n",
            " 0.20832911 0.20891775 0.20961691 0.21044412 0.21139424 0.21246965\n",
            " 0.213678   0.21500677 0.21642254 0.21790999]\n",
            "23 day output [[0.2194582]]\n",
            "24 day input [0.66837607 0.36752137 0.41025641 0.46324786 0.52307692 0.62735043\n",
            " 0.67863248 0.50598291 0.2957265  0.34871795 0.16581197 0.16923077\n",
            " 0.17264957 0.17777778 0.35384615 0.29230769 0.3982906  0.47692308\n",
            " 0.45299145 0.52478632 0.39316239 0.29230769 0.33162393 0.27179487\n",
            " 0.28205128 0.20512821 0.23076923 0.1965812  0.22222222 0.28376068\n",
            " 0.25811966 0.29059829 0.21025641 0.34700855 0.25470085 0.40512821\n",
            " 0.36410256 0.55555556 0.26324786 0.27008547 0.23247863 0.26153846\n",
            " 0.31965812 0.16752137 0.15213675 0.22051282 0.21025641 0.18974359\n",
            " 0.21196581 0.18290598 0.22222222 0.20512821 0.2        0.24444444\n",
            " 0.12991453 0.11282051 0.12991453 0.15555556 0.2        0.24273504\n",
            " 0.23589744 0.25982906 0.13846154 0.14529915 0.18290598 0.23418803\n",
            " 0.24102564 0.53504274 0.13162393 0.22905983 0.23418803 0.20512821\n",
            " 0.22051282 0.2017094  0.14358974 0.16581197 0.17842461 0.18657234\n",
            " 0.19225694 0.19610427 0.19888808 0.20104679 0.20277843 0.2041629\n",
            " 0.20524605 0.2060848  0.20674242 0.20729007 0.20780121 0.20832911\n",
            " 0.20891775 0.20961691 0.21044412 0.21139424 0.21246965 0.213678\n",
            " 0.21500677 0.21642254 0.21790999 0.21945819]\n",
            "24 day output [[0.22106811]]\n",
            "25 day input [0.36752137 0.41025641 0.46324786 0.52307692 0.62735043 0.67863248\n",
            " 0.50598291 0.2957265  0.34871795 0.16581197 0.16923077 0.17264957\n",
            " 0.17777778 0.35384615 0.29230769 0.3982906  0.47692308 0.45299145\n",
            " 0.52478632 0.39316239 0.29230769 0.33162393 0.27179487 0.28205128\n",
            " 0.20512821 0.23076923 0.1965812  0.22222222 0.28376068 0.25811966\n",
            " 0.29059829 0.21025641 0.34700855 0.25470085 0.40512821 0.36410256\n",
            " 0.55555556 0.26324786 0.27008547 0.23247863 0.26153846 0.31965812\n",
            " 0.16752137 0.15213675 0.22051282 0.21025641 0.18974359 0.21196581\n",
            " 0.18290598 0.22222222 0.20512821 0.2        0.24444444 0.12991453\n",
            " 0.11282051 0.12991453 0.15555556 0.2        0.24273504 0.23589744\n",
            " 0.25982906 0.13846154 0.14529915 0.18290598 0.23418803 0.24102564\n",
            " 0.53504274 0.13162393 0.22905983 0.23418803 0.20512821 0.22051282\n",
            " 0.2017094  0.14358974 0.16581197 0.17842461 0.18657234 0.19225694\n",
            " 0.19610427 0.19888808 0.20104679 0.20277843 0.2041629  0.20524605\n",
            " 0.2060848  0.20674242 0.20729007 0.20780121 0.20832911 0.20891775\n",
            " 0.20961691 0.21044412 0.21139424 0.21246965 0.213678   0.21500677\n",
            " 0.21642254 0.21790999 0.21945819 0.22106811]\n",
            "25 day output [[0.22272094]]\n",
            "26 day input [0.41025641 0.46324786 0.52307692 0.62735043 0.67863248 0.50598291\n",
            " 0.2957265  0.34871795 0.16581197 0.16923077 0.17264957 0.17777778\n",
            " 0.35384615 0.29230769 0.3982906  0.47692308 0.45299145 0.52478632\n",
            " 0.39316239 0.29230769 0.33162393 0.27179487 0.28205128 0.20512821\n",
            " 0.23076923 0.1965812  0.22222222 0.28376068 0.25811966 0.29059829\n",
            " 0.21025641 0.34700855 0.25470085 0.40512821 0.36410256 0.55555556\n",
            " 0.26324786 0.27008547 0.23247863 0.26153846 0.31965812 0.16752137\n",
            " 0.15213675 0.22051282 0.21025641 0.18974359 0.21196581 0.18290598\n",
            " 0.22222222 0.20512821 0.2        0.24444444 0.12991453 0.11282051\n",
            " 0.12991453 0.15555556 0.2        0.24273504 0.23589744 0.25982906\n",
            " 0.13846154 0.14529915 0.18290598 0.23418803 0.24102564 0.53504274\n",
            " 0.13162393 0.22905983 0.23418803 0.20512821 0.22051282 0.2017094\n",
            " 0.14358974 0.16581197 0.17842461 0.18657234 0.19225694 0.19610427\n",
            " 0.19888808 0.20104679 0.20277843 0.2041629  0.20524605 0.2060848\n",
            " 0.20674242 0.20729007 0.20780121 0.20832911 0.20891775 0.20961691\n",
            " 0.21044412 0.21139424 0.21246965 0.213678   0.21500677 0.21642254\n",
            " 0.21790999 0.21945819 0.22106811 0.22272094]\n",
            "26 day output [[0.22439587]]\n",
            "27 day input [0.46324786 0.52307692 0.62735043 0.67863248 0.50598291 0.2957265\n",
            " 0.34871795 0.16581197 0.16923077 0.17264957 0.17777778 0.35384615\n",
            " 0.29230769 0.3982906  0.47692308 0.45299145 0.52478632 0.39316239\n",
            " 0.29230769 0.33162393 0.27179487 0.28205128 0.20512821 0.23076923\n",
            " 0.1965812  0.22222222 0.28376068 0.25811966 0.29059829 0.21025641\n",
            " 0.34700855 0.25470085 0.40512821 0.36410256 0.55555556 0.26324786\n",
            " 0.27008547 0.23247863 0.26153846 0.31965812 0.16752137 0.15213675\n",
            " 0.22051282 0.21025641 0.18974359 0.21196581 0.18290598 0.22222222\n",
            " 0.20512821 0.2        0.24444444 0.12991453 0.11282051 0.12991453\n",
            " 0.15555556 0.2        0.24273504 0.23589744 0.25982906 0.13846154\n",
            " 0.14529915 0.18290598 0.23418803 0.24102564 0.53504274 0.13162393\n",
            " 0.22905983 0.23418803 0.20512821 0.22051282 0.2017094  0.14358974\n",
            " 0.16581197 0.17842461 0.18657234 0.19225694 0.19610427 0.19888808\n",
            " 0.20104679 0.20277843 0.2041629  0.20524605 0.2060848  0.20674242\n",
            " 0.20729007 0.20780121 0.20832911 0.20891775 0.20961691 0.21044412\n",
            " 0.21139424 0.21246965 0.213678   0.21500677 0.21642254 0.21790999\n",
            " 0.21945819 0.22106811 0.22272094 0.22439587]\n",
            "27 day output [[0.22609629]]\n",
            "28 day input [0.52307692 0.62735043 0.67863248 0.50598291 0.2957265  0.34871795\n",
            " 0.16581197 0.16923077 0.17264957 0.17777778 0.35384615 0.29230769\n",
            " 0.3982906  0.47692308 0.45299145 0.52478632 0.39316239 0.29230769\n",
            " 0.33162393 0.27179487 0.28205128 0.20512821 0.23076923 0.1965812\n",
            " 0.22222222 0.28376068 0.25811966 0.29059829 0.21025641 0.34700855\n",
            " 0.25470085 0.40512821 0.36410256 0.55555556 0.26324786 0.27008547\n",
            " 0.23247863 0.26153846 0.31965812 0.16752137 0.15213675 0.22051282\n",
            " 0.21025641 0.18974359 0.21196581 0.18290598 0.22222222 0.20512821\n",
            " 0.2        0.24444444 0.12991453 0.11282051 0.12991453 0.15555556\n",
            " 0.2        0.24273504 0.23589744 0.25982906 0.13846154 0.14529915\n",
            " 0.18290598 0.23418803 0.24102564 0.53504274 0.13162393 0.22905983\n",
            " 0.23418803 0.20512821 0.22051282 0.2017094  0.14358974 0.16581197\n",
            " 0.17842461 0.18657234 0.19225694 0.19610427 0.19888808 0.20104679\n",
            " 0.20277843 0.2041629  0.20524605 0.2060848  0.20674242 0.20729007\n",
            " 0.20780121 0.20832911 0.20891775 0.20961691 0.21044412 0.21139424\n",
            " 0.21246965 0.213678   0.21500677 0.21642254 0.21790999 0.21945819\n",
            " 0.22106811 0.22272094 0.22439587 0.22609629]\n",
            "28 day output [[0.22782044]]\n",
            "29 day input [0.62735043 0.67863248 0.50598291 0.2957265  0.34871795 0.16581197\n",
            " 0.16923077 0.17264957 0.17777778 0.35384615 0.29230769 0.3982906\n",
            " 0.47692308 0.45299145 0.52478632 0.39316239 0.29230769 0.33162393\n",
            " 0.27179487 0.28205128 0.20512821 0.23076923 0.1965812  0.22222222\n",
            " 0.28376068 0.25811966 0.29059829 0.21025641 0.34700855 0.25470085\n",
            " 0.40512821 0.36410256 0.55555556 0.26324786 0.27008547 0.23247863\n",
            " 0.26153846 0.31965812 0.16752137 0.15213675 0.22051282 0.21025641\n",
            " 0.18974359 0.21196581 0.18290598 0.22222222 0.20512821 0.2\n",
            " 0.24444444 0.12991453 0.11282051 0.12991453 0.15555556 0.2\n",
            " 0.24273504 0.23589744 0.25982906 0.13846154 0.14529915 0.18290598\n",
            " 0.23418803 0.24102564 0.53504274 0.13162393 0.22905983 0.23418803\n",
            " 0.20512821 0.22051282 0.2017094  0.14358974 0.16581197 0.17842461\n",
            " 0.18657234 0.19225694 0.19610427 0.19888808 0.20104679 0.20277843\n",
            " 0.2041629  0.20524605 0.2060848  0.20674242 0.20729007 0.20780121\n",
            " 0.20832911 0.20891775 0.20961691 0.21044412 0.21139424 0.21246965\n",
            " 0.213678   0.21500677 0.21642254 0.21790999 0.21945819 0.22106811\n",
            " 0.22272094 0.22439587 0.22609629 0.22782044]\n",
            "29 day output [[0.22956748]]\n",
            "[[0.17842461168766022], [0.1865723431110382], [0.19225694239139557], [0.1961042732000351], [0.19888807833194733], [0.20104679465293884], [0.2027784287929535], [0.20416289567947388], [0.20524604618549347], [0.20608480274677277], [0.20674242079257965], [0.20729006826877594], [0.2078012079000473], [0.20832911133766174], [0.2089177519083023], [0.20961691439151764], [0.2104441225528717], [0.21139423549175262], [0.2124696522951126], [0.2136780023574829], [0.2150067687034607], [0.21642254292964935], [0.21790999174118042], [0.2194581925868988], [0.2210681140422821], [0.2227209359407425], [0.22439587116241455], [0.2260962873697281], [0.22782044112682343], [0.2295674830675125]]\n"
          ],
          "name": "stdout"
        }
      ]
    },
    {
      "cell_type": "code",
      "metadata": {
        "id": "Xh0HJftUpIyq"
      },
      "source": [
        "day_new=np.arange(1,101)\n",
        "day_pred=np.arange(101,131)"
      ],
      "execution_count": 42,
      "outputs": []
    },
    {
      "cell_type": "code",
      "metadata": {
        "id": "z1fZgBjPpSaa"
      },
      "source": [
        "import matplotlib.pyplot as plt"
      ],
      "execution_count": 43,
      "outputs": []
    },
    {
      "cell_type": "code",
      "metadata": {
        "colab": {
          "base_uri": "https://localhost:8080/"
        },
        "id": "b3aQxHfDpU68",
        "outputId": "b8523731-07d4-4a91-95bb-67a32625ae55"
      },
      "source": [
        "len(df1)"
      ],
      "execution_count": 44,
      "outputs": [
        {
          "output_type": "execute_result",
          "data": {
            "text/plain": [
              "2526"
            ]
          },
          "metadata": {
            "tags": []
          },
          "execution_count": 44
        }
      ]
    },
    {
      "cell_type": "code",
      "metadata": {
        "colab": {
          "base_uri": "https://localhost:8080/",
          "height": 282
        },
        "id": "S6eBYuYzpWk_",
        "outputId": "6bace9e3-0c56-4a52-9886-9074a7e2fa49"
      },
      "source": [
        "plt.plot(day_new,scalar.inverse_transform(df1[2426:]))\n",
        "plt.plot(day_pred,scalar.inverse_transform(lst_output))"
      ],
      "execution_count": 47,
      "outputs": [
        {
          "output_type": "execute_result",
          "data": {
            "text/plain": [
              "[<matplotlib.lines.Line2D at 0x7f04001de790>]"
            ]
          },
          "metadata": {
            "tags": []
          },
          "execution_count": 47
        },
        {
          "output_type": "display_data",
          "data": {
            "image/png": "[encoded data removed]",
            "text/plain": [
              "<Figure size 432x288 with 1 Axes>"
            ]
          },
          "metadata": {
            "tags": [],
            "needs_background": "light"
          }
        }
      ]
    },
    {
      "cell_type": "code",
      "metadata": {
        "colab": {
          "base_uri": "https://localhost:8080/",
          "height": 282
        },
        "id": "2-3HcRWVpewZ",
        "outputId": "f23f4692-39fc-45b3-fc28-7c8e0814d123"
      },
      "source": [
        "df3=df1.tolist()\n",
        "df3.extend(lst_output)\n",
        "plt.plot(df3[2500:])"
      ],
      "execution_count": 48,
      "outputs": [
        {
          "output_type": "execute_result",
          "data": {
            "text/plain": [
              "[<matplotlib.lines.Line2D at 0x7f04000a8f10>]"
            ]
          },
          "metadata": {
            "tags": []
          },
          "execution_count": 48
        },
        {
          "output_type": "display_data",
          "data": {
            "image/png": "[encoded data removed]",
            "text/plain": [
              "<Figure size 432x288 with 1 Axes>"
            ]
          },
          "metadata": {
            "tags": [],
            "needs_background": "light"
          }
        }
      ]
    },
    {
      "cell_type": "code",
      "metadata": {
        "id": "VAEQG2Ippz9U"
      },
      "source": [
        "df3=scalar.inverse_transform(df3).tolist()"
      ],
      "execution_count": 49,
      "outputs": []
    },
    {
      "cell_type": "code",
      "metadata": {
        "colab": {
          "base_uri": "https://localhost:8080/",
          "height": 282
        },
        "id": "Yg1fBKFOp4wM",
        "outputId": "5c506dab-b778-4aeb-cb3e-d558be3d7f4c"
      },
      "source": [
        "plt.plot(df3)"
      ],
      "execution_count": 50,
      "outputs": [
        {
          "output_type": "execute_result",
          "data": {
            "text/plain": [
              "[<matplotlib.lines.Line2D at 0x7f040003d610>]"
            ]
          },
          "metadata": {
            "tags": []
          },
          "execution_count": 50
        },
        {
          "output_type": "display_data",
          "data": {
            "image/png": "[encoded data removed]",
            "text/plain": [
              "<Figure size 432x288 with 1 Axes>"
            ]
          },
          "metadata": {
            "tags": [],
            "needs_background": "light"
          }
        }
      ]
    },
    {
      "cell_type": "code",
      "metadata": {
        "id": "Gi2zQxNyp8V8"
      },
      "source": [
        ""
      ],
      "execution_count": null,
      "outputs": []
    }
  ]
}